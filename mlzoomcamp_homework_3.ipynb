{
  "nbformat": 4,
  "nbformat_minor": 0,
  "metadata": {
    "colab": {
      "name": "mlzoomcamp_homework_3.ipynb",
      "provenance": [],
      "authorship_tag": "ABX9TyM30aErrNui5W7aiQySmAiZ",
      "include_colab_link": true
    },
    "kernelspec": {
      "name": "python3",
      "display_name": "Python 3"
    },
    "language_info": {
      "name": "python"
    }
  },
  "cells": [
    {
      "cell_type": "markdown",
      "metadata": {
        "id": "view-in-github",
        "colab_type": "text"
      },
      "source": [
        "<a href=\"https://colab.research.google.com/github/secondaryfeed/mlzoomcamp-code/blob/main/mlzoomcamp_homework_3.ipynb\" target=\"_parent\"><img src=\"https://colab.research.google.com/assets/colab-badge.svg\" alt=\"Open In Colab\"/></a>"
      ]
    },
    {
      "cell_type": "code",
      "metadata": {
        "id": "CKVzZHMq4nl7"
      },
      "source": [
        "import pandas as pd\n",
        "import numpy as np\n",
        "import seaborn as sns\n",
        "\n",
        "from matplotlib import pyplot as plt\n",
        "%matplotlib inline"
      ],
      "execution_count": 1,
      "outputs": []
    },
    {
      "cell_type": "code",
      "metadata": {
        "colab": {
          "base_uri": "https://localhost:8080/"
        },
        "id": "Qx3qZ8ov4tHy",
        "outputId": "45edef8e-b0bc-46e6-b68d-53f85218d0c9"
      },
      "source": [
        "data = 'https://raw.githubusercontent.com/alexeygrigorev/datasets/master/AB_NYC_2019.csv'\n",
        "!wget $data"
      ],
      "execution_count": 2,
      "outputs": [
        {
          "output_type": "stream",
          "name": "stdout",
          "text": [
            "--2021-09-27 06:21:20--  https://raw.githubusercontent.com/alexeygrigorev/datasets/master/AB_NYC_2019.csv\n",
            "Resolving raw.githubusercontent.com (raw.githubusercontent.com)... 185.199.109.133, 185.199.108.133, 185.199.110.133, ...\n",
            "Connecting to raw.githubusercontent.com (raw.githubusercontent.com)|185.199.109.133|:443... connected.\n",
            "HTTP request sent, awaiting response... 200 OK\n",
            "Length: 7077973 (6.8M) [text/plain]\n",
            "Saving to: ‘AB_NYC_2019.csv’\n",
            "\n",
            "\rAB_NYC_2019.csv       0%[                    ]       0  --.-KB/s               \rAB_NYC_2019.csv     100%[===================>]   6.75M  --.-KB/s    in 0.03s   \n",
            "\n",
            "2021-09-27 06:21:20 (230 MB/s) - ‘AB_NYC_2019.csv’ saved [7077973/7077973]\n",
            "\n"
          ]
        }
      ]
    },
    {
      "cell_type": "code",
      "metadata": {
        "colab": {
          "base_uri": "https://localhost:8080/",
          "height": 840
        },
        "id": "2gK6J2OW41wT",
        "outputId": "d31dc8e8-6fe3-4ed0-f066-5bfbed43960e"
      },
      "source": [
        "df = pd.read_csv('AB_NYC_2019.csv')\n",
        "df"
      ],
      "execution_count": 3,
      "outputs": [
        {
          "output_type": "execute_result",
          "data": {
            "text/html": [
              "<div>\n",
              "<style scoped>\n",
              "    .dataframe tbody tr th:only-of-type {\n",
              "        vertical-align: middle;\n",
              "    }\n",
              "\n",
              "    .dataframe tbody tr th {\n",
              "        vertical-align: top;\n",
              "    }\n",
              "\n",
              "    .dataframe thead th {\n",
              "        text-align: right;\n",
              "    }\n",
              "</style>\n",
              "<table border=\"1\" class=\"dataframe\">\n",
              "  <thead>\n",
              "    <tr style=\"text-align: right;\">\n",
              "      <th></th>\n",
              "      <th>id</th>\n",
              "      <th>name</th>\n",
              "      <th>host_id</th>\n",
              "      <th>host_name</th>\n",
              "      <th>neighbourhood_group</th>\n",
              "      <th>neighbourhood</th>\n",
              "      <th>latitude</th>\n",
              "      <th>longitude</th>\n",
              "      <th>room_type</th>\n",
              "      <th>price</th>\n",
              "      <th>minimum_nights</th>\n",
              "      <th>number_of_reviews</th>\n",
              "      <th>last_review</th>\n",
              "      <th>reviews_per_month</th>\n",
              "      <th>calculated_host_listings_count</th>\n",
              "      <th>availability_365</th>\n",
              "    </tr>\n",
              "  </thead>\n",
              "  <tbody>\n",
              "    <tr>\n",
              "      <th>0</th>\n",
              "      <td>2539</td>\n",
              "      <td>Clean &amp; quiet apt home by the park</td>\n",
              "      <td>2787</td>\n",
              "      <td>John</td>\n",
              "      <td>Brooklyn</td>\n",
              "      <td>Kensington</td>\n",
              "      <td>40.64749</td>\n",
              "      <td>-73.97237</td>\n",
              "      <td>Private room</td>\n",
              "      <td>149</td>\n",
              "      <td>1</td>\n",
              "      <td>9</td>\n",
              "      <td>2018-10-19</td>\n",
              "      <td>0.21</td>\n",
              "      <td>6</td>\n",
              "      <td>365</td>\n",
              "    </tr>\n",
              "    <tr>\n",
              "      <th>1</th>\n",
              "      <td>2595</td>\n",
              "      <td>Skylit Midtown Castle</td>\n",
              "      <td>2845</td>\n",
              "      <td>Jennifer</td>\n",
              "      <td>Manhattan</td>\n",
              "      <td>Midtown</td>\n",
              "      <td>40.75362</td>\n",
              "      <td>-73.98377</td>\n",
              "      <td>Entire home/apt</td>\n",
              "      <td>225</td>\n",
              "      <td>1</td>\n",
              "      <td>45</td>\n",
              "      <td>2019-05-21</td>\n",
              "      <td>0.38</td>\n",
              "      <td>2</td>\n",
              "      <td>355</td>\n",
              "    </tr>\n",
              "    <tr>\n",
              "      <th>2</th>\n",
              "      <td>3647</td>\n",
              "      <td>THE VILLAGE OF HARLEM....NEW YORK !</td>\n",
              "      <td>4632</td>\n",
              "      <td>Elisabeth</td>\n",
              "      <td>Manhattan</td>\n",
              "      <td>Harlem</td>\n",
              "      <td>40.80902</td>\n",
              "      <td>-73.94190</td>\n",
              "      <td>Private room</td>\n",
              "      <td>150</td>\n",
              "      <td>3</td>\n",
              "      <td>0</td>\n",
              "      <td>NaN</td>\n",
              "      <td>NaN</td>\n",
              "      <td>1</td>\n",
              "      <td>365</td>\n",
              "    </tr>\n",
              "    <tr>\n",
              "      <th>3</th>\n",
              "      <td>3831</td>\n",
              "      <td>Cozy Entire Floor of Brownstone</td>\n",
              "      <td>4869</td>\n",
              "      <td>LisaRoxanne</td>\n",
              "      <td>Brooklyn</td>\n",
              "      <td>Clinton Hill</td>\n",
              "      <td>40.68514</td>\n",
              "      <td>-73.95976</td>\n",
              "      <td>Entire home/apt</td>\n",
              "      <td>89</td>\n",
              "      <td>1</td>\n",
              "      <td>270</td>\n",
              "      <td>2019-07-05</td>\n",
              "      <td>4.64</td>\n",
              "      <td>1</td>\n",
              "      <td>194</td>\n",
              "    </tr>\n",
              "    <tr>\n",
              "      <th>4</th>\n",
              "      <td>5022</td>\n",
              "      <td>Entire Apt: Spacious Studio/Loft by central park</td>\n",
              "      <td>7192</td>\n",
              "      <td>Laura</td>\n",
              "      <td>Manhattan</td>\n",
              "      <td>East Harlem</td>\n",
              "      <td>40.79851</td>\n",
              "      <td>-73.94399</td>\n",
              "      <td>Entire home/apt</td>\n",
              "      <td>80</td>\n",
              "      <td>10</td>\n",
              "      <td>9</td>\n",
              "      <td>2018-11-19</td>\n",
              "      <td>0.10</td>\n",
              "      <td>1</td>\n",
              "      <td>0</td>\n",
              "    </tr>\n",
              "    <tr>\n",
              "      <th>...</th>\n",
              "      <td>...</td>\n",
              "      <td>...</td>\n",
              "      <td>...</td>\n",
              "      <td>...</td>\n",
              "      <td>...</td>\n",
              "      <td>...</td>\n",
              "      <td>...</td>\n",
              "      <td>...</td>\n",
              "      <td>...</td>\n",
              "      <td>...</td>\n",
              "      <td>...</td>\n",
              "      <td>...</td>\n",
              "      <td>...</td>\n",
              "      <td>...</td>\n",
              "      <td>...</td>\n",
              "      <td>...</td>\n",
              "    </tr>\n",
              "    <tr>\n",
              "      <th>48890</th>\n",
              "      <td>36484665</td>\n",
              "      <td>Charming one bedroom - newly renovated rowhouse</td>\n",
              "      <td>8232441</td>\n",
              "      <td>Sabrina</td>\n",
              "      <td>Brooklyn</td>\n",
              "      <td>Bedford-Stuyvesant</td>\n",
              "      <td>40.67853</td>\n",
              "      <td>-73.94995</td>\n",
              "      <td>Private room</td>\n",
              "      <td>70</td>\n",
              "      <td>2</td>\n",
              "      <td>0</td>\n",
              "      <td>NaN</td>\n",
              "      <td>NaN</td>\n",
              "      <td>2</td>\n",
              "      <td>9</td>\n",
              "    </tr>\n",
              "    <tr>\n",
              "      <th>48891</th>\n",
              "      <td>36485057</td>\n",
              "      <td>Affordable room in Bushwick/East Williamsburg</td>\n",
              "      <td>6570630</td>\n",
              "      <td>Marisol</td>\n",
              "      <td>Brooklyn</td>\n",
              "      <td>Bushwick</td>\n",
              "      <td>40.70184</td>\n",
              "      <td>-73.93317</td>\n",
              "      <td>Private room</td>\n",
              "      <td>40</td>\n",
              "      <td>4</td>\n",
              "      <td>0</td>\n",
              "      <td>NaN</td>\n",
              "      <td>NaN</td>\n",
              "      <td>2</td>\n",
              "      <td>36</td>\n",
              "    </tr>\n",
              "    <tr>\n",
              "      <th>48892</th>\n",
              "      <td>36485431</td>\n",
              "      <td>Sunny Studio at Historical Neighborhood</td>\n",
              "      <td>23492952</td>\n",
              "      <td>Ilgar &amp; Aysel</td>\n",
              "      <td>Manhattan</td>\n",
              "      <td>Harlem</td>\n",
              "      <td>40.81475</td>\n",
              "      <td>-73.94867</td>\n",
              "      <td>Entire home/apt</td>\n",
              "      <td>115</td>\n",
              "      <td>10</td>\n",
              "      <td>0</td>\n",
              "      <td>NaN</td>\n",
              "      <td>NaN</td>\n",
              "      <td>1</td>\n",
              "      <td>27</td>\n",
              "    </tr>\n",
              "    <tr>\n",
              "      <th>48893</th>\n",
              "      <td>36485609</td>\n",
              "      <td>43rd St. Time Square-cozy single bed</td>\n",
              "      <td>30985759</td>\n",
              "      <td>Taz</td>\n",
              "      <td>Manhattan</td>\n",
              "      <td>Hell's Kitchen</td>\n",
              "      <td>40.75751</td>\n",
              "      <td>-73.99112</td>\n",
              "      <td>Shared room</td>\n",
              "      <td>55</td>\n",
              "      <td>1</td>\n",
              "      <td>0</td>\n",
              "      <td>NaN</td>\n",
              "      <td>NaN</td>\n",
              "      <td>6</td>\n",
              "      <td>2</td>\n",
              "    </tr>\n",
              "    <tr>\n",
              "      <th>48894</th>\n",
              "      <td>36487245</td>\n",
              "      <td>Trendy duplex in the very heart of Hell's Kitchen</td>\n",
              "      <td>68119814</td>\n",
              "      <td>Christophe</td>\n",
              "      <td>Manhattan</td>\n",
              "      <td>Hell's Kitchen</td>\n",
              "      <td>40.76404</td>\n",
              "      <td>-73.98933</td>\n",
              "      <td>Private room</td>\n",
              "      <td>90</td>\n",
              "      <td>7</td>\n",
              "      <td>0</td>\n",
              "      <td>NaN</td>\n",
              "      <td>NaN</td>\n",
              "      <td>1</td>\n",
              "      <td>23</td>\n",
              "    </tr>\n",
              "  </tbody>\n",
              "</table>\n",
              "<p>48895 rows × 16 columns</p>\n",
              "</div>"
            ],
            "text/plain": [
              "             id  ... availability_365\n",
              "0          2539  ...              365\n",
              "1          2595  ...              355\n",
              "2          3647  ...              365\n",
              "3          3831  ...              194\n",
              "4          5022  ...                0\n",
              "...         ...  ...              ...\n",
              "48890  36484665  ...                9\n",
              "48891  36485057  ...               36\n",
              "48892  36485431  ...               27\n",
              "48893  36485609  ...                2\n",
              "48894  36487245  ...               23\n",
              "\n",
              "[48895 rows x 16 columns]"
            ]
          },
          "metadata": {},
          "execution_count": 3
        }
      ]
    },
    {
      "cell_type": "code",
      "metadata": {
        "id": "NilNJ0Th5UG3"
      },
      "source": [
        "df.columns = df.columns.str.lower().str.replace(' ', '_')\n",
        "string_columns = list(df.dtypes[df.dtypes == 'object'].index)\n",
        "for col in string_columns:\n",
        "    df[col] = df[col].str.lower().str.replace(' ', '_')"
      ],
      "execution_count": 4,
      "outputs": []
    },
    {
      "cell_type": "code",
      "metadata": {
        "id": "Fvxe0SHc5Z8F"
      },
      "source": [
        "features = ['neighbourhood_group','room_type','latitude','longitude','price','minimum_nights','number_of_reviews',\n",
        "            'reviews_per_month','calculated_host_listings_count','availability_365']\n",
        "df = df[features]"
      ],
      "execution_count": 5,
      "outputs": []
    },
    {
      "cell_type": "code",
      "metadata": {
        "colab": {
          "base_uri": "https://localhost:8080/"
        },
        "id": "jQzOEhY95w00",
        "outputId": "8b7f67e7-8847-40b0-d930-98cff2b1f775"
      },
      "source": [
        "df.isnull().sum()"
      ],
      "execution_count": 6,
      "outputs": [
        {
          "output_type": "execute_result",
          "data": {
            "text/plain": [
              "neighbourhood_group                   0\n",
              "room_type                             0\n",
              "latitude                              0\n",
              "longitude                             0\n",
              "price                                 0\n",
              "minimum_nights                        0\n",
              "number_of_reviews                     0\n",
              "reviews_per_month                 10052\n",
              "calculated_host_listings_count        0\n",
              "availability_365                      0\n",
              "dtype: int64"
            ]
          },
          "metadata": {},
          "execution_count": 6
        }
      ]
    },
    {
      "cell_type": "code",
      "metadata": {
        "colab": {
          "base_uri": "https://localhost:8080/"
        },
        "id": "DGsKn0_C6iWJ",
        "outputId": "09b43141-cfa7-4421-edef-b7aa29ee0941"
      },
      "source": [
        "df['reviews_per_month'] = df.reviews_per_month.fillna(0)"
      ],
      "execution_count": 7,
      "outputs": [
        {
          "output_type": "stream",
          "name": "stderr",
          "text": [
            "/usr/local/lib/python3.7/dist-packages/ipykernel_launcher.py:1: SettingWithCopyWarning: \n",
            "A value is trying to be set on a copy of a slice from a DataFrame.\n",
            "Try using .loc[row_indexer,col_indexer] = value instead\n",
            "\n",
            "See the caveats in the documentation: https://pandas.pydata.org/pandas-docs/stable/user_guide/indexing.html#returning-a-view-versus-a-copy\n",
            "  \"\"\"Entry point for launching an IPython kernel.\n"
          ]
        }
      ]
    },
    {
      "cell_type": "markdown",
      "metadata": {
        "id": "N_BndUiU6-oP"
      },
      "source": [
        "### Question 1\n",
        "##### What is the most frequent observation (mode) for the column 'neighbourhood_group'?\n",
        "*   Split your data in train/val/test sets, with 60%/20%/20% distribution.\n",
        "*   Use Scikit-Learn for that (the train_test_split function) and set the seed to 42.\n",
        "*   Make sure that the target value ('price') is not in your dataframe.\n",
        "\n",
        "\n",
        "\n"
      ]
    },
    {
      "cell_type": "code",
      "metadata": {
        "id": "pJ9ovN_u6rNW"
      },
      "source": [
        "from sklearn.model_selection import train_test_split\n",
        "\n",
        "df_full_train, df_test = train_test_split(df, test_size=0.2, random_state=42)\n",
        "df_train, df_val = train_test_split(df_full_train, test_size = 0.25, random_state = 42)"
      ],
      "execution_count": 8,
      "outputs": []
    },
    {
      "cell_type": "code",
      "metadata": {
        "id": "1zlnOn0S7eyG"
      },
      "source": [
        "df_train = df_train.reset_index(drop=True)\n",
        "df_val = df_val.reset_index(drop=True)\n",
        "df_test = df_test.reset_index(drop=True)"
      ],
      "execution_count": 9,
      "outputs": []
    },
    {
      "cell_type": "code",
      "metadata": {
        "id": "cGByxkaUAgfd"
      },
      "source": [
        "y_train = df_train.price.values\n",
        "y_val = df_val.price.values\n",
        "y_test = df_test.price.values\n",
        "\n",
        "del df_train['price']\n",
        "del df_val['price']\n",
        "del df_test['price']"
      ],
      "execution_count": 10,
      "outputs": []
    },
    {
      "cell_type": "code",
      "metadata": {
        "colab": {
          "base_uri": "https://localhost:8080/"
        },
        "id": "0Qe8_TWYAu8e",
        "outputId": "9b4fe442-fc8a-40d9-d6ca-ac20b0cee4ea"
      },
      "source": [
        "len(df), len(df_train), len(df_val), len(df_test)"
      ],
      "execution_count": 11,
      "outputs": [
        {
          "output_type": "execute_result",
          "data": {
            "text/plain": [
              "(48895, 29337, 9779, 9779)"
            ]
          },
          "metadata": {},
          "execution_count": 11
        }
      ]
    },
    {
      "cell_type": "code",
      "metadata": {
        "colab": {
          "base_uri": "https://localhost:8080/"
        },
        "id": "YQeXY6-6A_YO",
        "outputId": "f69401ec-5cad-4edd-c74f-8ef67e305fc5"
      },
      "source": [
        "y_train"
      ],
      "execution_count": 12,
      "outputs": [
        {
          "output_type": "execute_result",
          "data": {
            "text/plain": [
              "array([ 99,  57,  70, ..., 299,  65,  92])"
            ]
          },
          "metadata": {},
          "execution_count": 12
        }
      ]
    },
    {
      "cell_type": "code",
      "metadata": {
        "colab": {
          "base_uri": "https://localhost:8080/",
          "height": 417
        },
        "id": "jrtYeA0MA_Ut",
        "outputId": "aed14921-9446-4d6d-91ae-c036134d6f4d"
      },
      "source": [
        "df_train"
      ],
      "execution_count": 13,
      "outputs": [
        {
          "output_type": "execute_result",
          "data": {
            "text/html": [
              "<div>\n",
              "<style scoped>\n",
              "    .dataframe tbody tr th:only-of-type {\n",
              "        vertical-align: middle;\n",
              "    }\n",
              "\n",
              "    .dataframe tbody tr th {\n",
              "        vertical-align: top;\n",
              "    }\n",
              "\n",
              "    .dataframe thead th {\n",
              "        text-align: right;\n",
              "    }\n",
              "</style>\n",
              "<table border=\"1\" class=\"dataframe\">\n",
              "  <thead>\n",
              "    <tr style=\"text-align: right;\">\n",
              "      <th></th>\n",
              "      <th>neighbourhood_group</th>\n",
              "      <th>room_type</th>\n",
              "      <th>latitude</th>\n",
              "      <th>longitude</th>\n",
              "      <th>minimum_nights</th>\n",
              "      <th>number_of_reviews</th>\n",
              "      <th>reviews_per_month</th>\n",
              "      <th>calculated_host_listings_count</th>\n",
              "      <th>availability_365</th>\n",
              "    </tr>\n",
              "  </thead>\n",
              "  <tbody>\n",
              "    <tr>\n",
              "      <th>0</th>\n",
              "      <td>brooklyn</td>\n",
              "      <td>entire_home/apt</td>\n",
              "      <td>40.72760</td>\n",
              "      <td>-73.94495</td>\n",
              "      <td>3</td>\n",
              "      <td>29</td>\n",
              "      <td>0.70</td>\n",
              "      <td>13</td>\n",
              "      <td>50</td>\n",
              "    </tr>\n",
              "    <tr>\n",
              "      <th>1</th>\n",
              "      <td>manhattan</td>\n",
              "      <td>private_room</td>\n",
              "      <td>40.70847</td>\n",
              "      <td>-74.00498</td>\n",
              "      <td>1</td>\n",
              "      <td>0</td>\n",
              "      <td>0.00</td>\n",
              "      <td>1</td>\n",
              "      <td>7</td>\n",
              "    </tr>\n",
              "    <tr>\n",
              "      <th>2</th>\n",
              "      <td>bronx</td>\n",
              "      <td>entire_home/apt</td>\n",
              "      <td>40.83149</td>\n",
              "      <td>-73.92766</td>\n",
              "      <td>40</td>\n",
              "      <td>0</td>\n",
              "      <td>0.00</td>\n",
              "      <td>1</td>\n",
              "      <td>0</td>\n",
              "    </tr>\n",
              "    <tr>\n",
              "      <th>3</th>\n",
              "      <td>brooklyn</td>\n",
              "      <td>entire_home/apt</td>\n",
              "      <td>40.66448</td>\n",
              "      <td>-73.99407</td>\n",
              "      <td>2</td>\n",
              "      <td>3</td>\n",
              "      <td>0.08</td>\n",
              "      <td>1</td>\n",
              "      <td>0</td>\n",
              "    </tr>\n",
              "    <tr>\n",
              "      <th>4</th>\n",
              "      <td>manhattan</td>\n",
              "      <td>private_room</td>\n",
              "      <td>40.74118</td>\n",
              "      <td>-74.00012</td>\n",
              "      <td>1</td>\n",
              "      <td>48</td>\n",
              "      <td>1.80</td>\n",
              "      <td>2</td>\n",
              "      <td>67</td>\n",
              "    </tr>\n",
              "    <tr>\n",
              "      <th>...</th>\n",
              "      <td>...</td>\n",
              "      <td>...</td>\n",
              "      <td>...</td>\n",
              "      <td>...</td>\n",
              "      <td>...</td>\n",
              "      <td>...</td>\n",
              "      <td>...</td>\n",
              "      <td>...</td>\n",
              "      <td>...</td>\n",
              "    </tr>\n",
              "    <tr>\n",
              "      <th>29332</th>\n",
              "      <td>brooklyn</td>\n",
              "      <td>private_room</td>\n",
              "      <td>40.71748</td>\n",
              "      <td>-73.95685</td>\n",
              "      <td>6</td>\n",
              "      <td>5</td>\n",
              "      <td>0.13</td>\n",
              "      <td>1</td>\n",
              "      <td>0</td>\n",
              "    </tr>\n",
              "    <tr>\n",
              "      <th>29333</th>\n",
              "      <td>brooklyn</td>\n",
              "      <td>private_room</td>\n",
              "      <td>40.66397</td>\n",
              "      <td>-73.98538</td>\n",
              "      <td>1</td>\n",
              "      <td>7</td>\n",
              "      <td>0.17</td>\n",
              "      <td>2</td>\n",
              "      <td>0</td>\n",
              "    </tr>\n",
              "    <tr>\n",
              "      <th>29334</th>\n",
              "      <td>manhattan</td>\n",
              "      <td>private_room</td>\n",
              "      <td>40.79994</td>\n",
              "      <td>-73.97001</td>\n",
              "      <td>1</td>\n",
              "      <td>1</td>\n",
              "      <td>0.64</td>\n",
              "      <td>1</td>\n",
              "      <td>88</td>\n",
              "    </tr>\n",
              "    <tr>\n",
              "      <th>29335</th>\n",
              "      <td>brooklyn</td>\n",
              "      <td>private_room</td>\n",
              "      <td>40.69585</td>\n",
              "      <td>-73.96344</td>\n",
              "      <td>60</td>\n",
              "      <td>0</td>\n",
              "      <td>0.00</td>\n",
              "      <td>1</td>\n",
              "      <td>0</td>\n",
              "    </tr>\n",
              "    <tr>\n",
              "      <th>29336</th>\n",
              "      <td>brooklyn</td>\n",
              "      <td>entire_home/apt</td>\n",
              "      <td>40.64438</td>\n",
              "      <td>-73.95484</td>\n",
              "      <td>7</td>\n",
              "      <td>15</td>\n",
              "      <td>0.49</td>\n",
              "      <td>2</td>\n",
              "      <td>281</td>\n",
              "    </tr>\n",
              "  </tbody>\n",
              "</table>\n",
              "<p>29337 rows × 9 columns</p>\n",
              "</div>"
            ],
            "text/plain": [
              "      neighbourhood_group  ... availability_365\n",
              "0                brooklyn  ...               50\n",
              "1               manhattan  ...                7\n",
              "2                   bronx  ...                0\n",
              "3                brooklyn  ...                0\n",
              "4               manhattan  ...               67\n",
              "...                   ...  ...              ...\n",
              "29332            brooklyn  ...                0\n",
              "29333            brooklyn  ...                0\n",
              "29334           manhattan  ...               88\n",
              "29335            brooklyn  ...                0\n",
              "29336            brooklyn  ...              281\n",
              "\n",
              "[29337 rows x 9 columns]"
            ]
          },
          "metadata": {},
          "execution_count": 13
        }
      ]
    },
    {
      "cell_type": "code",
      "metadata": {
        "id": "1vmAWdBoA_Sd"
      },
      "source": [
        "df_full_train = df_full_train.reset_index(drop=True)"
      ],
      "execution_count": 14,
      "outputs": []
    },
    {
      "cell_type": "code",
      "metadata": {
        "colab": {
          "base_uri": "https://localhost:8080/"
        },
        "id": "VkeUay2MA_P3",
        "outputId": "9692f3b4-1da5-4b0b-a2ac-b41e4e1af8b3"
      },
      "source": [
        "df_full_train.neighbourhood_group.value_counts(normalize=False)"
      ],
      "execution_count": 15,
      "outputs": [
        {
          "output_type": "execute_result",
          "data": {
            "text/plain": [
              "manhattan        17380\n",
              "brooklyn         16096\n",
              "queens            4482\n",
              "bronx              864\n",
              "staten_island      294\n",
              "Name: neighbourhood_group, dtype: int64"
            ]
          },
          "metadata": {},
          "execution_count": 15
        }
      ]
    },
    {
      "cell_type": "code",
      "metadata": {
        "colab": {
          "base_uri": "https://localhost:8080/"
        },
        "id": "1SV-WfApA_NL",
        "outputId": "692432da-2261-47df-ba9c-6d2fa757a407"
      },
      "source": [
        "df.neighbourhood_group.mode()"
      ],
      "execution_count": 16,
      "outputs": [
        {
          "output_type": "execute_result",
          "data": {
            "text/plain": [
              "0    manhattan\n",
              "dtype: object"
            ]
          },
          "metadata": {},
          "execution_count": 16
        }
      ]
    },
    {
      "cell_type": "markdown",
      "metadata": {
        "id": "eXIRVgl8Eif0"
      },
      "source": [
        "###### The answer: Manhattan"
      ]
    },
    {
      "cell_type": "markdown",
      "metadata": {
        "id": "82psgjTZ7eC7"
      },
      "source": [
        "### Question 2\n",
        "##### What are the two features that have the biggest correlation in this dataset?\n",
        "*   Create the correlation matrix for the numerical features of your train dataset.\n",
        "*   In a correlation matrix, you compute the correlation coefficient between every pair of features in the dataset.\n",
        "\n"
      ]
    },
    {
      "cell_type": "code",
      "metadata": {
        "colab": {
          "base_uri": "https://localhost:8080/"
        },
        "id": "pISVKaf87-oi",
        "outputId": "fc81728f-1b7f-427c-f79d-dbc4d7db7e22"
      },
      "source": [
        "df.dtypes"
      ],
      "execution_count": 17,
      "outputs": [
        {
          "output_type": "execute_result",
          "data": {
            "text/plain": [
              "neighbourhood_group                object\n",
              "room_type                          object\n",
              "latitude                          float64\n",
              "longitude                         float64\n",
              "price                               int64\n",
              "minimum_nights                      int64\n",
              "number_of_reviews                   int64\n",
              "reviews_per_month                 float64\n",
              "calculated_host_listings_count      int64\n",
              "availability_365                    int64\n",
              "dtype: object"
            ]
          },
          "metadata": {},
          "execution_count": 17
        }
      ]
    },
    {
      "cell_type": "code",
      "metadata": {
        "id": "yK9ZqnUW7_Zh"
      },
      "source": [
        "categorical = [\"neighbourhood_group\", \"room_type\"]\n",
        "numerical = ['latitude','longitude', 'minimum_nights','number_of_reviews','reviews_per_month','calculated_host_listings_count','availability_365']"
      ],
      "execution_count": 18,
      "outputs": []
    },
    {
      "cell_type": "code",
      "metadata": {
        "colab": {
          "base_uri": "https://localhost:8080/",
          "height": 182
        },
        "id": "VRw_FktgBi69",
        "outputId": "19396277-e8f7-4567-cb3c-0d642175cef5"
      },
      "source": [
        "from IPython.display import display\n",
        "\n",
        "corr = df_train.corr()\n",
        "corr.style.background_gradient(cmap='coolwarm').set_precision(2)"
      ],
      "execution_count": 22,
      "outputs": [
        {
          "output_type": "execute_result",
          "data": {
            "text/html": [
              "<style  type=\"text/css\" >\n",
              "#T_baace848_1f5f_11ec_908b_0242ac1c0002row0_col0,#T_baace848_1f5f_11ec_908b_0242ac1c0002row1_col1,#T_baace848_1f5f_11ec_908b_0242ac1c0002row2_col2,#T_baace848_1f5f_11ec_908b_0242ac1c0002row3_col3,#T_baace848_1f5f_11ec_908b_0242ac1c0002row4_col4,#T_baace848_1f5f_11ec_908b_0242ac1c0002row5_col5,#T_baace848_1f5f_11ec_908b_0242ac1c0002row6_col6{\n",
              "            background-color:  #b40426;\n",
              "            color:  #f1f1f1;\n",
              "        }#T_baace848_1f5f_11ec_908b_0242ac1c0002row0_col1,#T_baace848_1f5f_11ec_908b_0242ac1c0002row3_col6,#T_baace848_1f5f_11ec_908b_0242ac1c0002row6_col1{\n",
              "            background-color:  #7396f5;\n",
              "            color:  #000000;\n",
              "        }#T_baace848_1f5f_11ec_908b_0242ac1c0002row0_col2{\n",
              "            background-color:  #6384eb;\n",
              "            color:  #000000;\n",
              "        }#T_baace848_1f5f_11ec_908b_0242ac1c0002row0_col3,#T_baace848_1f5f_11ec_908b_0242ac1c0002row5_col4{\n",
              "            background-color:  #4e68d8;\n",
              "            color:  #000000;\n",
              "        }#T_baace848_1f5f_11ec_908b_0242ac1c0002row0_col4{\n",
              "            background-color:  #5977e3;\n",
              "            color:  #000000;\n",
              "        }#T_baace848_1f5f_11ec_908b_0242ac1c0002row0_col5,#T_baace848_1f5f_11ec_908b_0242ac1c0002row1_col3{\n",
              "            background-color:  #6180e9;\n",
              "            color:  #000000;\n",
              "        }#T_baace848_1f5f_11ec_908b_0242ac1c0002row0_col6,#T_baace848_1f5f_11ec_908b_0242ac1c0002row1_col5,#T_baace848_1f5f_11ec_908b_0242ac1c0002row2_col3,#T_baace848_1f5f_11ec_908b_0242ac1c0002row2_col4,#T_baace848_1f5f_11ec_908b_0242ac1c0002row3_col0,#T_baace848_1f5f_11ec_908b_0242ac1c0002row4_col0,#T_baace848_1f5f_11ec_908b_0242ac1c0002row4_col2,#T_baace848_1f5f_11ec_908b_0242ac1c0002row5_col1,#T_baace848_1f5f_11ec_908b_0242ac1c0002row5_col3,#T_baace848_1f5f_11ec_908b_0242ac1c0002row6_col0{\n",
              "            background-color:  #3b4cc0;\n",
              "            color:  #f1f1f1;\n",
              "        }#T_baace848_1f5f_11ec_908b_0242ac1c0002row1_col0,#T_baace848_1f5f_11ec_908b_0242ac1c0002row1_col6{\n",
              "            background-color:  #5572df;\n",
              "            color:  #000000;\n",
              "        }#T_baace848_1f5f_11ec_908b_0242ac1c0002row1_col2{\n",
              "            background-color:  #4a63d3;\n",
              "            color:  #f1f1f1;\n",
              "        }#T_baace848_1f5f_11ec_908b_0242ac1c0002row1_col4,#T_baace848_1f5f_11ec_908b_0242ac1c0002row5_col6{\n",
              "            background-color:  #85a8fc;\n",
              "            color:  #000000;\n",
              "        }#T_baace848_1f5f_11ec_908b_0242ac1c0002row2_col0{\n",
              "            background-color:  #445acc;\n",
              "            color:  #f1f1f1;\n",
              "        }#T_baace848_1f5f_11ec_908b_0242ac1c0002row2_col1{\n",
              "            background-color:  #4961d2;\n",
              "            color:  #f1f1f1;\n",
              "        }#T_baace848_1f5f_11ec_908b_0242ac1c0002row2_col5,#T_baace848_1f5f_11ec_908b_0242ac1c0002row5_col2{\n",
              "            background-color:  #80a3fa;\n",
              "            color:  #000000;\n",
              "        }#T_baace848_1f5f_11ec_908b_0242ac1c0002row2_col6{\n",
              "            background-color:  #6788ee;\n",
              "            color:  #000000;\n",
              "        }#T_baace848_1f5f_11ec_908b_0242ac1c0002row3_col1{\n",
              "            background-color:  #6b8df0;\n",
              "            color:  #000000;\n",
              "        }#T_baace848_1f5f_11ec_908b_0242ac1c0002row3_col2,#T_baace848_1f5f_11ec_908b_0242ac1c0002row3_col5{\n",
              "            background-color:  #465ecf;\n",
              "            color:  #f1f1f1;\n",
              "        }#T_baace848_1f5f_11ec_908b_0242ac1c0002row3_col4{\n",
              "            background-color:  #f5c1a9;\n",
              "            color:  #000000;\n",
              "        }#T_baace848_1f5f_11ec_908b_0242ac1c0002row4_col1{\n",
              "            background-color:  #84a7fc;\n",
              "            color:  #000000;\n",
              "        }#T_baace848_1f5f_11ec_908b_0242ac1c0002row4_col3{\n",
              "            background-color:  #f4c6af;\n",
              "            color:  #000000;\n",
              "        }#T_baace848_1f5f_11ec_908b_0242ac1c0002row4_col5{\n",
              "            background-color:  #4c66d6;\n",
              "            color:  #000000;\n",
              "        }#T_baace848_1f5f_11ec_908b_0242ac1c0002row4_col6{\n",
              "            background-color:  #7093f3;\n",
              "            color:  #000000;\n",
              "        }#T_baace848_1f5f_11ec_908b_0242ac1c0002row5_col0{\n",
              "            background-color:  #4257c9;\n",
              "            color:  #f1f1f1;\n",
              "        }#T_baace848_1f5f_11ec_908b_0242ac1c0002row6_col2,#T_baace848_1f5f_11ec_908b_0242ac1c0002row6_col3{\n",
              "            background-color:  #86a9fc;\n",
              "            color:  #000000;\n",
              "        }#T_baace848_1f5f_11ec_908b_0242ac1c0002row6_col4{\n",
              "            background-color:  #8fb1fe;\n",
              "            color:  #000000;\n",
              "        }#T_baace848_1f5f_11ec_908b_0242ac1c0002row6_col5{\n",
              "            background-color:  #a1c0ff;\n",
              "            color:  #000000;\n",
              "        }</style><table id=\"T_baace848_1f5f_11ec_908b_0242ac1c0002\" ><thead>    <tr>        <th class=\"blank level0\" ></th>        <th class=\"col_heading level0 col0\" >latitude</th>        <th class=\"col_heading level0 col1\" >longitude</th>        <th class=\"col_heading level0 col2\" >minimum_nights</th>        <th class=\"col_heading level0 col3\" >number_of_reviews</th>        <th class=\"col_heading level0 col4\" >reviews_per_month</th>        <th class=\"col_heading level0 col5\" >calculated_host_listings_count</th>        <th class=\"col_heading level0 col6\" >availability_365</th>    </tr></thead><tbody>\n",
              "                <tr>\n",
              "                        <th id=\"T_baace848_1f5f_11ec_908b_0242ac1c0002level0_row0\" class=\"row_heading level0 row0\" >latitude</th>\n",
              "                        <td id=\"T_baace848_1f5f_11ec_908b_0242ac1c0002row0_col0\" class=\"data row0 col0\" >1.00</td>\n",
              "                        <td id=\"T_baace848_1f5f_11ec_908b_0242ac1c0002row0_col1\" class=\"data row0 col1\" >0.08</td>\n",
              "                        <td id=\"T_baace848_1f5f_11ec_908b_0242ac1c0002row0_col2\" class=\"data row0 col2\" >0.03</td>\n",
              "                        <td id=\"T_baace848_1f5f_11ec_908b_0242ac1c0002row0_col3\" class=\"data row0 col3\" >-0.01</td>\n",
              "                        <td id=\"T_baace848_1f5f_11ec_908b_0242ac1c0002row0_col4\" class=\"data row0 col4\" >-0.01</td>\n",
              "                        <td id=\"T_baace848_1f5f_11ec_908b_0242ac1c0002row0_col5\" class=\"data row0 col5\" >0.02</td>\n",
              "                        <td id=\"T_baace848_1f5f_11ec_908b_0242ac1c0002row0_col6\" class=\"data row0 col6\" >-0.01</td>\n",
              "            </tr>\n",
              "            <tr>\n",
              "                        <th id=\"T_baace848_1f5f_11ec_908b_0242ac1c0002level0_row1\" class=\"row_heading level0 row1\" >longitude</th>\n",
              "                        <td id=\"T_baace848_1f5f_11ec_908b_0242ac1c0002row1_col0\" class=\"data row1 col0\" >0.08</td>\n",
              "                        <td id=\"T_baace848_1f5f_11ec_908b_0242ac1c0002row1_col1\" class=\"data row1 col1\" >1.00</td>\n",
              "                        <td id=\"T_baace848_1f5f_11ec_908b_0242ac1c0002row1_col2\" class=\"data row1 col2\" >-0.06</td>\n",
              "                        <td id=\"T_baace848_1f5f_11ec_908b_0242ac1c0002row1_col3\" class=\"data row1 col3\" >0.06</td>\n",
              "                        <td id=\"T_baace848_1f5f_11ec_908b_0242ac1c0002row1_col4\" class=\"data row1 col4\" >0.13</td>\n",
              "                        <td id=\"T_baace848_1f5f_11ec_908b_0242ac1c0002row1_col5\" class=\"data row1 col5\" >-0.12</td>\n",
              "                        <td id=\"T_baace848_1f5f_11ec_908b_0242ac1c0002row1_col6\" class=\"data row1 col6\" >0.08</td>\n",
              "            </tr>\n",
              "            <tr>\n",
              "                        <th id=\"T_baace848_1f5f_11ec_908b_0242ac1c0002level0_row2\" class=\"row_heading level0 row2\" >minimum_nights</th>\n",
              "                        <td id=\"T_baace848_1f5f_11ec_908b_0242ac1c0002row2_col0\" class=\"data row2 col0\" >0.03</td>\n",
              "                        <td id=\"T_baace848_1f5f_11ec_908b_0242ac1c0002row2_col1\" class=\"data row2 col1\" >-0.06</td>\n",
              "                        <td id=\"T_baace848_1f5f_11ec_908b_0242ac1c0002row2_col2\" class=\"data row2 col2\" >1.00</td>\n",
              "                        <td id=\"T_baace848_1f5f_11ec_908b_0242ac1c0002row2_col3\" class=\"data row2 col3\" >-0.08</td>\n",
              "                        <td id=\"T_baace848_1f5f_11ec_908b_0242ac1c0002row2_col4\" class=\"data row2 col4\" >-0.12</td>\n",
              "                        <td id=\"T_baace848_1f5f_11ec_908b_0242ac1c0002row2_col5\" class=\"data row2 col5\" >0.12</td>\n",
              "                        <td id=\"T_baace848_1f5f_11ec_908b_0242ac1c0002row2_col6\" class=\"data row2 col6\" >0.14</td>\n",
              "            </tr>\n",
              "            <tr>\n",
              "                        <th id=\"T_baace848_1f5f_11ec_908b_0242ac1c0002level0_row3\" class=\"row_heading level0 row3\" >number_of_reviews</th>\n",
              "                        <td id=\"T_baace848_1f5f_11ec_908b_0242ac1c0002row3_col0\" class=\"data row3 col0\" >-0.01</td>\n",
              "                        <td id=\"T_baace848_1f5f_11ec_908b_0242ac1c0002row3_col1\" class=\"data row3 col1\" >0.06</td>\n",
              "                        <td id=\"T_baace848_1f5f_11ec_908b_0242ac1c0002row3_col2\" class=\"data row3 col2\" >-0.08</td>\n",
              "                        <td id=\"T_baace848_1f5f_11ec_908b_0242ac1c0002row3_col3\" class=\"data row3 col3\" >1.00</td>\n",
              "                        <td id=\"T_baace848_1f5f_11ec_908b_0242ac1c0002row3_col4\" class=\"data row3 col4\" >0.59</td>\n",
              "                        <td id=\"T_baace848_1f5f_11ec_908b_0242ac1c0002row3_col5\" class=\"data row3 col5\" >-0.07</td>\n",
              "                        <td id=\"T_baace848_1f5f_11ec_908b_0242ac1c0002row3_col6\" class=\"data row3 col6\" >0.17</td>\n",
              "            </tr>\n",
              "            <tr>\n",
              "                        <th id=\"T_baace848_1f5f_11ec_908b_0242ac1c0002level0_row4\" class=\"row_heading level0 row4\" >reviews_per_month</th>\n",
              "                        <td id=\"T_baace848_1f5f_11ec_908b_0242ac1c0002row4_col0\" class=\"data row4 col0\" >-0.01</td>\n",
              "                        <td id=\"T_baace848_1f5f_11ec_908b_0242ac1c0002row4_col1\" class=\"data row4 col1\" >0.13</td>\n",
              "                        <td id=\"T_baace848_1f5f_11ec_908b_0242ac1c0002row4_col2\" class=\"data row4 col2\" >-0.12</td>\n",
              "                        <td id=\"T_baace848_1f5f_11ec_908b_0242ac1c0002row4_col3\" class=\"data row4 col3\" >0.59</td>\n",
              "                        <td id=\"T_baace848_1f5f_11ec_908b_0242ac1c0002row4_col4\" class=\"data row4 col4\" >1.00</td>\n",
              "                        <td id=\"T_baace848_1f5f_11ec_908b_0242ac1c0002row4_col5\" class=\"data row4 col5\" >-0.05</td>\n",
              "                        <td id=\"T_baace848_1f5f_11ec_908b_0242ac1c0002row4_col6\" class=\"data row4 col6\" >0.17</td>\n",
              "            </tr>\n",
              "            <tr>\n",
              "                        <th id=\"T_baace848_1f5f_11ec_908b_0242ac1c0002level0_row5\" class=\"row_heading level0 row5\" >calculated_host_listings_count</th>\n",
              "                        <td id=\"T_baace848_1f5f_11ec_908b_0242ac1c0002row5_col0\" class=\"data row5 col0\" >0.02</td>\n",
              "                        <td id=\"T_baace848_1f5f_11ec_908b_0242ac1c0002row5_col1\" class=\"data row5 col1\" >-0.12</td>\n",
              "                        <td id=\"T_baace848_1f5f_11ec_908b_0242ac1c0002row5_col2\" class=\"data row5 col2\" >0.12</td>\n",
              "                        <td id=\"T_baace848_1f5f_11ec_908b_0242ac1c0002row5_col3\" class=\"data row5 col3\" >-0.07</td>\n",
              "                        <td id=\"T_baace848_1f5f_11ec_908b_0242ac1c0002row5_col4\" class=\"data row5 col4\" >-0.05</td>\n",
              "                        <td id=\"T_baace848_1f5f_11ec_908b_0242ac1c0002row5_col5\" class=\"data row5 col5\" >1.00</td>\n",
              "                        <td id=\"T_baace848_1f5f_11ec_908b_0242ac1c0002row5_col6\" class=\"data row5 col6\" >0.23</td>\n",
              "            </tr>\n",
              "            <tr>\n",
              "                        <th id=\"T_baace848_1f5f_11ec_908b_0242ac1c0002level0_row6\" class=\"row_heading level0 row6\" >availability_365</th>\n",
              "                        <td id=\"T_baace848_1f5f_11ec_908b_0242ac1c0002row6_col0\" class=\"data row6 col0\" >-0.01</td>\n",
              "                        <td id=\"T_baace848_1f5f_11ec_908b_0242ac1c0002row6_col1\" class=\"data row6 col1\" >0.08</td>\n",
              "                        <td id=\"T_baace848_1f5f_11ec_908b_0242ac1c0002row6_col2\" class=\"data row6 col2\" >0.14</td>\n",
              "                        <td id=\"T_baace848_1f5f_11ec_908b_0242ac1c0002row6_col3\" class=\"data row6 col3\" >0.17</td>\n",
              "                        <td id=\"T_baace848_1f5f_11ec_908b_0242ac1c0002row6_col4\" class=\"data row6 col4\" >0.17</td>\n",
              "                        <td id=\"T_baace848_1f5f_11ec_908b_0242ac1c0002row6_col5\" class=\"data row6 col5\" >0.23</td>\n",
              "                        <td id=\"T_baace848_1f5f_11ec_908b_0242ac1c0002row6_col6\" class=\"data row6 col6\" >1.00</td>\n",
              "            </tr>\n",
              "    </tbody></table>"
            ],
            "text/plain": [
              "<pandas.io.formats.style.Styler at 0x7fd458dca710>"
            ]
          },
          "metadata": {},
          "execution_count": 22
        }
      ]
    },
    {
      "cell_type": "code",
      "metadata": {
        "colab": {
          "base_uri": "https://localhost:8080/",
          "height": 429
        },
        "id": "9p8u7cxMBi3h",
        "outputId": "8b05ad00-9e47-4592-80ad-48e75f9e2ccb"
      },
      "source": [
        "sns.heatmap(corr)"
      ],
      "execution_count": 23,
      "outputs": [
        {
          "output_type": "execute_result",
          "data": {
            "text/plain": [
              "<matplotlib.axes._subplots.AxesSubplot at 0x7fd458dedc50>"
            ]
          },
          "metadata": {},
          "execution_count": 23
        },
        {
          "output_type": "display_data",
          "data": {
            "image/png": "[encoded data removed]",
            "text/plain": [
              "<Figure size 432x288 with 2 Axes>"
            ]
          },
          "metadata": {
            "needs_background": "light"
          }
        }
      ]
    },
    {
      "cell_type": "code",
      "metadata": {
        "colab": {
          "base_uri": "https://localhost:8080/"
        },
        "id": "oPvG8B8xBiuL",
        "outputId": "e18e2251-27b5-4171-9085-5647fc7aaf2e"
      },
      "source": [
        "max_corr = -1\n",
        "columns = np.full((corr.shape[0],), True, dtype=bool)\n",
        "for i in range(corr.shape[0]):\n",
        "  for j in range(i+1, corr.shape[0]):\n",
        "    if corr.iloc[i,j] < 1.00 and  corr.iloc[i,j] > max_corr:\n",
        "      max_corr = corr.iloc[i,j]\n",
        "      print(\"Max corr is : \", max_corr, ' for :(', i,\",\", j, \")\")"
      ],
      "execution_count": 24,
      "outputs": [
        {
          "output_type": "stream",
          "name": "stdout",
          "text": [
            "Max corr is :  0.08030088258320403  for :( 0 , 1 )\n",
            "Max corr is :  0.13464215986454384  for :( 1 , 4 )\n",
            "Max corr is :  0.13890125161845288  for :( 2 , 6 )\n",
            "Max corr is :  0.5903739015971261  for :( 3 , 4 )\n"
          ]
        }
      ]
    },
    {
      "cell_type": "markdown",
      "metadata": {
        "id": "IVqwy-GWDFX5"
      },
      "source": [
        "###### The answer: number_of_reviews and reviews_per_month"
      ]
    },
    {
      "cell_type": "markdown",
      "metadata": {
        "id": "7aGpimK5DqDy"
      },
      "source": [
        "### Make price binary"
      ]
    },
    {
      "cell_type": "code",
      "metadata": {
        "colab": {
          "base_uri": "https://localhost:8080/"
        },
        "id": "_HdYA-PvBik8",
        "outputId": "bc4f5e1a-5b86-45a4-8e39-0469cd9238fb"
      },
      "source": [
        "y_train.max()"
      ],
      "execution_count": 25,
      "outputs": [
        {
          "output_type": "execute_result",
          "data": {
            "text/plain": [
              "10000"
            ]
          },
          "metadata": {},
          "execution_count": 25
        }
      ]
    },
    {
      "cell_type": "code",
      "metadata": {
        "id": "3RHfpUm5DnPD"
      },
      "source": [
        "def make_binary(series):\n",
        "  series = series.copy()\n",
        "  for i in range(len(series)):\n",
        "   series[i] = np.binary_repr(series[i])\n",
        "  return series"
      ],
      "execution_count": 26,
      "outputs": []
    },
    {
      "cell_type": "code",
      "metadata": {
        "id": "HVBPLk2MDzeB"
      },
      "source": [
        "y_train_binary = make_binary(y_train)"
      ],
      "execution_count": 27,
      "outputs": []
    },
    {
      "cell_type": "code",
      "metadata": {
        "colab": {
          "base_uri": "https://localhost:8080/"
        },
        "id": "Ov0Rb7OVD2qL",
        "outputId": "7170851e-e998-4f86-ecb9-9d885c4cc181"
      },
      "source": [
        "y_train[:5]"
      ],
      "execution_count": 28,
      "outputs": [
        {
          "output_type": "execute_result",
          "data": {
            "text/plain": [
              "array([ 99,  57,  70, 130, 110])"
            ]
          },
          "metadata": {},
          "execution_count": 28
        }
      ]
    },
    {
      "cell_type": "code",
      "metadata": {
        "colab": {
          "base_uri": "https://localhost:8080/"
        },
        "id": "vC7ZCq6oD5Un",
        "outputId": "0703e318-6fc8-47c5-fa44-8fbe9979e984"
      },
      "source": [
        "y_train_binary[:5]"
      ],
      "execution_count": 29,
      "outputs": [
        {
          "output_type": "execute_result",
          "data": {
            "text/plain": [
              "array([ 1100011,   111001,  1000110, 10000010,  1101110])"
            ]
          },
          "metadata": {},
          "execution_count": 29
        }
      ]
    },
    {
      "cell_type": "code",
      "metadata": {
        "id": "H4S0yAenD5pW"
      },
      "source": [
        "#Let's create a variable above_average which is 1 if the price is above (or equal to) 152. \n",
        "bin_price_val = (y_val >= 152).astype(int)\n",
        "bin_price_train = (y_train >= 152).astype(int)\n",
        "bin_price_test = (y_test >= 152).astype(int)"
      ],
      "execution_count": 30,
      "outputs": []
    },
    {
      "cell_type": "markdown",
      "metadata": {
        "id": "NAwIRqAn7_9W"
      },
      "source": [
        "### Question 3\n",
        "##### Which of these two variables has bigger score?\n",
        "*   Calculate the mutual information score with the (binarized) price for the two categorical variables that we have. Use the training set only.\n",
        "*   Round it to 2 decimal digits using round(score, 2)\n",
        "\n",
        "\n",
        "\n"
      ]
    },
    {
      "cell_type": "code",
      "metadata": {
        "id": "vnHrhrFh8seb"
      },
      "source": [
        "from sklearn.metrics import mutual_info_score\n",
        "\n",
        "def calculate_mutual_information(series):\n",
        "  return np.round(mutual_info_score(series, bin_price_train), 2)"
      ],
      "execution_count": 32,
      "outputs": []
    },
    {
      "cell_type": "code",
      "metadata": {
        "colab": {
          "base_uri": "https://localhost:8080/"
        },
        "id": "cJ7DO0RU8s8F",
        "outputId": "966471bd-32fc-4b16-927b-9cc0b3a10492"
      },
      "source": [
        "mi = df_train[categorical].apply(calculate_mutual_information)\n",
        "mi.sort_values(ascending = False)"
      ],
      "execution_count": 33,
      "outputs": [
        {
          "output_type": "execute_result",
          "data": {
            "text/plain": [
              "room_type              0.14\n",
              "neighbourhood_group    0.05\n",
              "dtype: float64"
            ]
          },
          "metadata": {},
          "execution_count": 33
        }
      ]
    },
    {
      "cell_type": "markdown",
      "metadata": {
        "id": "aY3tUg7yEc0y"
      },
      "source": [
        "###### The answer: room_type"
      ]
    },
    {
      "cell_type": "markdown",
      "metadata": {
        "id": "RsOzYUxx8tkd"
      },
      "source": [
        "### Question 4\n",
        "##### Calculate the accuracy on the validation dataset and rount it to 2 decimal digits.\n",
        "\n",
        "*   Now let's train a logistic regression. Remember that we have two categorical variables in the data. Include them using one-hot encoding.\n",
        "*   Fit the model on the training dataset. To make sure the results are reproducible across different versions of Scikit-Learn, fit the model with these parameters: \n",
        "      *   model = LogisticRegression(solver='lbfgs', C=1.0, random_state=42)\n",
        "\n"
      ]
    },
    {
      "cell_type": "code",
      "metadata": {
        "id": "WK7GKsA59a2j"
      },
      "source": [
        "from sklearn.feature_extraction import DictVectorizer\n",
        "\n",
        "dv = DictVectorizer(sparse=False)\n",
        "train_dict = df_train[categorical + numerical].to_dict(orient='records')\n",
        "X_train = dv.fit_transform(train_dict)\n",
        "val_dict = df_val[categorical + numerical].to_dict(orient='records')\n",
        "X_val = dv.transform(val_dict)"
      ],
      "execution_count": 34,
      "outputs": []
    },
    {
      "cell_type": "code",
      "metadata": {
        "colab": {
          "base_uri": "https://localhost:8080/"
        },
        "id": "lXkwaENA9bVy",
        "outputId": "2f201324-0b60-45a8-9628-688dbdee4c74"
      },
      "source": [
        "X_train"
      ],
      "execution_count": 35,
      "outputs": [
        {
          "output_type": "execute_result",
          "data": {
            "text/plain": [
              "array([[ 50.     ,  13.     ,  40.7276 , ...,   1.     ,   0.     ,\n",
              "          0.     ],\n",
              "       [  7.     ,   1.     ,  40.70847, ...,   0.     ,   1.     ,\n",
              "          0.     ],\n",
              "       [  0.     ,   1.     ,  40.83149, ...,   1.     ,   0.     ,\n",
              "          0.     ],\n",
              "       ...,\n",
              "       [ 88.     ,   1.     ,  40.79994, ...,   0.     ,   1.     ,\n",
              "          0.     ],\n",
              "       [  0.     ,   1.     ,  40.69585, ...,   0.     ,   1.     ,\n",
              "          0.     ],\n",
              "       [281.     ,   2.     ,  40.64438, ...,   1.     ,   0.     ,\n",
              "          0.     ]])"
            ]
          },
          "metadata": {},
          "execution_count": 35
        }
      ]
    },
    {
      "cell_type": "code",
      "metadata": {
        "colab": {
          "base_uri": "https://localhost:8080/"
        },
        "id": "Zn6Drx3sE906",
        "outputId": "1fc7faf5-67d2-474e-e8d1-181676a446b1"
      },
      "source": [
        "from sklearn.linear_model import LogisticRegression\n",
        "\n",
        "model = LogisticRegression(solver='liblinear', C=1.0, random_state=42)\n",
        "model.fit(X_train, bin_price_train)"
      ],
      "execution_count": 36,
      "outputs": [
        {
          "output_type": "execute_result",
          "data": {
            "text/plain": [
              "LogisticRegression(C=1.0, class_weight=None, dual=False, fit_intercept=True,\n",
              "                   intercept_scaling=1, l1_ratio=None, max_iter=100,\n",
              "                   multi_class='auto', n_jobs=None, penalty='l2',\n",
              "                   random_state=42, solver='liblinear', tol=0.0001, verbose=0,\n",
              "                   warm_start=False)"
            ]
          },
          "metadata": {},
          "execution_count": 36
        }
      ]
    },
    {
      "cell_type": "code",
      "metadata": {
        "id": "s217l1dnE9xB"
      },
      "source": [
        "#Prediction on validation dataset\n",
        "y_pred = model.predict_proba(X_val)[:, 1]"
      ],
      "execution_count": 37,
      "outputs": []
    },
    {
      "cell_type": "code",
      "metadata": {
        "colab": {
          "base_uri": "https://localhost:8080/"
        },
        "id": "f2NuBJcnE9t5",
        "outputId": "16e47d5c-5be2-4549-c6e6-3ae182d14e40"
      },
      "source": [
        "y_pred[:10]"
      ],
      "execution_count": 38,
      "outputs": [
        {
          "output_type": "execute_result",
          "data": {
            "text/plain": [
              "array([0.02879082, 0.59585524, 0.42623594, 0.07493569, 0.81180978,\n",
              "       0.33195823, 0.68563097, 0.54104382, 0.07675181, 0.60833048])"
            ]
          },
          "metadata": {},
          "execution_count": 38
        }
      ]
    },
    {
      "cell_type": "code",
      "metadata": {
        "colab": {
          "base_uri": "https://localhost:8080/"
        },
        "id": "rE8CzOZhE9qu",
        "outputId": "b58e6d65-77ab-4bf1-b8a2-81c41fa34873"
      },
      "source": [
        "prob = (y_pred >= 0.5)\n",
        "prob"
      ],
      "execution_count": 39,
      "outputs": [
        {
          "output_type": "execute_result",
          "data": {
            "text/plain": [
              "array([False,  True, False, ..., False, False,  True])"
            ]
          },
          "metadata": {},
          "execution_count": 39
        }
      ]
    },
    {
      "cell_type": "code",
      "metadata": {
        "colab": {
          "base_uri": "https://localhost:8080/"
        },
        "id": "IB0gkukZE9gV",
        "outputId": "733fbe12-84f9-4dd2-a36c-567372dd0910"
      },
      "source": [
        "accuracy = round((bin_price_val == prob).mean(), 2)\n",
        "accuracy"
      ],
      "execution_count": 40,
      "outputs": [
        {
          "output_type": "execute_result",
          "data": {
            "text/plain": [
              "0.79"
            ]
          },
          "metadata": {},
          "execution_count": 40
        }
      ]
    },
    {
      "cell_type": "markdown",
      "metadata": {
        "id": "GUYS2s0QF1wR"
      },
      "source": [
        "###### The answer: 0.79"
      ]
    },
    {
      "cell_type": "markdown",
      "metadata": {
        "id": "vPtDEJHq9cBa"
      },
      "source": [
        "### Question 5\n",
        "##### We have 9 features: 7 numerical features and 2 categorical. Let's find the least useful one using the feature elimination technique.\n",
        "*   Train a model with all these features (using the same parameters as in Q4).\n",
        "*   Now exclude each feature from this set and train a model without it. Record the accuracy for each model.\n",
        "*   For each feature, calculate the difference between the original accuracy and the accuracy without the feature.\n",
        "\n",
        "##### Which of following feature has the smallest difference? (neighbourhood_group, room_type, number_of_reviews, reviews_per_month)"
      ]
    },
    {
      "cell_type": "code",
      "metadata": {
        "colab": {
          "base_uri": "https://localhost:8080/"
        },
        "id": "00HpOvYo-kae",
        "outputId": "359cf91e-66b2-4908-948a-8496cba4169d"
      },
      "source": [
        "elimination = ['neighbourhood_group', 'room_type', 'number_of_reviews', 'reviews_per_month']\n",
        "for feature in elimination:\n",
        "  df_train_temp = df_train.drop(feature, axis = 1)\n",
        "  train_dict_temp = df_train_temp.to_dict(orient = 'records')\n",
        "  dv_temp = DictVectorizer()\n",
        "  X_train_temp = dv_temp.fit_transform(train_dict_temp)\n",
        "\n",
        "  model.fit(X_train_temp, bin_price_train)\n",
        "\n",
        "  df_val_temp = df_val.drop(feature, 1)\n",
        "  val_dict_temp = df_val_temp.to_dict(orient = 'records')\n",
        "  X_val_temp = dv_temp.fit_transform(val_dict_temp)\n",
        "\n",
        "  y_pred_temp = model.predict(X_val_temp)\n",
        "  prob_temp = (y_pred_temp >= 0.5)\n",
        "\n",
        "  accuracy_temp = (bin_price_val == prob_temp).mean()\n",
        "  diff_accuracy = abs(accuracy - accuracy_temp)\n",
        "  \n",
        "  print(\"Removing: \", feature, \" yields difference of: \", round(diff_accuracy, 4))"
      ],
      "execution_count": 42,
      "outputs": [
        {
          "output_type": "stream",
          "name": "stdout",
          "text": [
            "Removing:  neighbourhood_group  yields difference of:  0.0401\n",
            "Removing:  room_type  yields difference of:  0.0614\n",
            "Removing:  number_of_reviews  yields difference of:  0.0012\n",
            "Removing:  reviews_per_month  yields difference of:  0.0008\n"
          ]
        }
      ]
    },
    {
      "cell_type": "markdown",
      "metadata": {
        "id": "tl7dChhwGS6u"
      },
      "source": [
        "###### Answer: reviews_per_month"
      ]
    },
    {
      "cell_type": "markdown",
      "metadata": {
        "id": "Mh9la4UH-mqD"
      },
      "source": [
        "### Question 6\n",
        "#####For this question, we'll see how to use a linear regression model from Scikit-Learn\n",
        "*   We'll need to use the original column 'price'. Apply the logarithmic transformation to this column.\n",
        "*   Fit the Ridge regression model on the training data.\n",
        "*   This model has a parameter alpha. Let's try the following values: [0, 0.01, 0.1, 1, 10]\n",
        "\n",
        "##### Which of these alphas leads to the best RMSE on the validation set? Round your RMSE scores to 3 decimal digits.(If there are multiple options, select the smallest alpha.)"
      ]
    },
    {
      "cell_type": "code",
      "metadata": {
        "id": "oRBDoBzP_YZG"
      },
      "source": [
        "y_train_log = np.log1p(y_train)\n",
        "y_val_log = np.log1p(y_val)\n",
        "y_test_log = np.log1p(y_test)"
      ],
      "execution_count": 44,
      "outputs": []
    },
    {
      "cell_type": "code",
      "metadata": {
        "colab": {
          "base_uri": "https://localhost:8080/"
        },
        "id": "C5rVb5hO_Y9R",
        "outputId": "78732b4b-dd1d-48f8-b465-97611a3fe30e"
      },
      "source": [
        "from sklearn.linear_model import Ridge\n",
        "from sklearn.metrics import mean_squared_error\n",
        "\n",
        "alphas = [0, 0.01, 0.1, 1, 10]\n",
        "for i in alphas:\n",
        "  model_ridge = Ridge(alpha = i)\n",
        "  # Fit the Ridge regression model on the training data.\n",
        "  model_ridge.fit(X_train, y_train_log)\n",
        "  y_pred_ridge = model_ridge.predict(X_val) \n",
        "  rmse = np.sqrt(mean_squared_error(y_val_log, y_pred_ridge))\n",
        "  print(\"For alpha = \", i, \" RMSE is \", round(rmse, 3))"
      ],
      "execution_count": 45,
      "outputs": [
        {
          "output_type": "stream",
          "name": "stdout",
          "text": [
            "For alpha =  0  RMSE is  0.497\n",
            "For alpha =  0.01  RMSE is  0.497\n",
            "For alpha =  0.1  RMSE is  0.497\n",
            "For alpha =  1  RMSE is  0.497\n",
            "For alpha =  10  RMSE is  0.498\n"
          ]
        }
      ]
    },
    {
      "cell_type": "markdown",
      "metadata": {
        "id": "ZIyM9qgbHAIb"
      },
      "source": [
        "###### The answer: 0 (the smallest)"
      ]
    }
  ]
}