{
  "nbformat": 4,
  "nbformat_minor": 0,
  "metadata": {
    "colab": {
      "name": "mlzoomcamp_homework_2.ipynb",
      "provenance": [],
      "authorship_tag": "ABX9TyO82ybxEwWPmu3w6BS/JURg",
      "include_colab_link": true
    },
    "kernelspec": {
      "name": "python3",
      "display_name": "Python 3"
    },
    "language_info": {
      "name": "python"
    }
  },
  "cells": [
    {
      "cell_type": "markdown",
      "metadata": {
        "id": "view-in-github",
        "colab_type": "text"
      },
      "source": [
        "<a href=\"https://colab.research.google.com/github/secondaryfeed/mlzoomcamp-code/blob/main/mlzoomcamp_homework_2.ipynb\" target=\"_parent\"><img src=\"https://colab.research.google.com/assets/colab-badge.svg\" alt=\"Open In Colab\"/></a>"
      ]
    },
    {
      "cell_type": "code",
      "metadata": {
        "id": "0Bj9TCu5GDyu"
      },
      "source": [
        "import pandas as pd\n",
        "import numpy as np\n",
        "import seaborn as sns\n",
        "\n",
        "from matplotlib import pyplot as plt\n",
        "%matplotlib inline"
      ],
      "execution_count": 61,
      "outputs": []
    },
    {
      "cell_type": "code",
      "metadata": {
        "colab": {
          "base_uri": "https://localhost:8080/"
        },
        "id": "VzcTHoubIVYT",
        "outputId": "8b2e486d-30d9-4159-88df-0cd7364f70de"
      },
      "source": [
        "data = 'https://raw.githubusercontent.com/alexeygrigorev/datasets/master/AB_NYC_2019.csv'\n",
        "!wget $data"
      ],
      "execution_count": 62,
      "outputs": [
        {
          "output_type": "stream",
          "name": "stdout",
          "text": [
            "--2021-09-20 05:58:18--  https://raw.githubusercontent.com/alexeygrigorev/datasets/master/AB_NYC_2019.csv\n",
            "Resolving raw.githubusercontent.com (raw.githubusercontent.com)... 185.199.108.133, 185.199.109.133, 185.199.110.133, ...\n",
            "Connecting to raw.githubusercontent.com (raw.githubusercontent.com)|185.199.108.133|:443... connected.\n",
            "HTTP request sent, awaiting response... 200 OK\n",
            "Length: 7077973 (6.8M) [text/plain]\n",
            "Saving to: ‘AB_NYC_2019.csv.1’\n",
            "\n",
            "AB_NYC_2019.csv.1   100%[===================>]   6.75M  --.-KB/s    in 0.1s    \n",
            "\n",
            "2021-09-20 05:58:19 (64.6 MB/s) - ‘AB_NYC_2019.csv.1’ saved [7077973/7077973]\n",
            "\n"
          ]
        }
      ]
    },
    {
      "cell_type": "code",
      "metadata": {
        "id": "ljhsB9gZIqJj"
      },
      "source": [
        "df = pd.read_csv('AB_NYC_2019.csv')"
      ],
      "execution_count": null,
      "outputs": []
    },
    {
      "cell_type": "code",
      "metadata": {
        "colab": {
          "base_uri": "https://localhost:8080/",
          "height": 840
        },
        "id": "ngnVcvHoJl6b",
        "outputId": "ceb7af8d-5330-47f0-874f-dfa7aa34f855"
      },
      "source": [
        "df"
      ],
      "execution_count": null,
      "outputs": [
        {
          "output_type": "execute_result",
          "data": {
            "text/html": [
              "<div>\n",
              "<style scoped>\n",
              "    .dataframe tbody tr th:only-of-type {\n",
              "        vertical-align: middle;\n",
              "    }\n",
              "\n",
              "    .dataframe tbody tr th {\n",
              "        vertical-align: top;\n",
              "    }\n",
              "\n",
              "    .dataframe thead th {\n",
              "        text-align: right;\n",
              "    }\n",
              "</style>\n",
              "<table border=\"1\" class=\"dataframe\">\n",
              "  <thead>\n",
              "    <tr style=\"text-align: right;\">\n",
              "      <th></th>\n",
              "      <th>id</th>\n",
              "      <th>name</th>\n",
              "      <th>host_id</th>\n",
              "      <th>host_name</th>\n",
              "      <th>neighbourhood_group</th>\n",
              "      <th>neighbourhood</th>\n",
              "      <th>latitude</th>\n",
              "      <th>longitude</th>\n",
              "      <th>room_type</th>\n",
              "      <th>price</th>\n",
              "      <th>minimum_nights</th>\n",
              "      <th>number_of_reviews</th>\n",
              "      <th>last_review</th>\n",
              "      <th>reviews_per_month</th>\n",
              "      <th>calculated_host_listings_count</th>\n",
              "      <th>availability_365</th>\n",
              "    </tr>\n",
              "  </thead>\n",
              "  <tbody>\n",
              "    <tr>\n",
              "      <th>0</th>\n",
              "      <td>2539</td>\n",
              "      <td>Clean &amp; quiet apt home by the park</td>\n",
              "      <td>2787</td>\n",
              "      <td>John</td>\n",
              "      <td>Brooklyn</td>\n",
              "      <td>Kensington</td>\n",
              "      <td>40.64749</td>\n",
              "      <td>-73.97237</td>\n",
              "      <td>Private room</td>\n",
              "      <td>149</td>\n",
              "      <td>1</td>\n",
              "      <td>9</td>\n",
              "      <td>2018-10-19</td>\n",
              "      <td>0.21</td>\n",
              "      <td>6</td>\n",
              "      <td>365</td>\n",
              "    </tr>\n",
              "    <tr>\n",
              "      <th>1</th>\n",
              "      <td>2595</td>\n",
              "      <td>Skylit Midtown Castle</td>\n",
              "      <td>2845</td>\n",
              "      <td>Jennifer</td>\n",
              "      <td>Manhattan</td>\n",
              "      <td>Midtown</td>\n",
              "      <td>40.75362</td>\n",
              "      <td>-73.98377</td>\n",
              "      <td>Entire home/apt</td>\n",
              "      <td>225</td>\n",
              "      <td>1</td>\n",
              "      <td>45</td>\n",
              "      <td>2019-05-21</td>\n",
              "      <td>0.38</td>\n",
              "      <td>2</td>\n",
              "      <td>355</td>\n",
              "    </tr>\n",
              "    <tr>\n",
              "      <th>2</th>\n",
              "      <td>3647</td>\n",
              "      <td>THE VILLAGE OF HARLEM....NEW YORK !</td>\n",
              "      <td>4632</td>\n",
              "      <td>Elisabeth</td>\n",
              "      <td>Manhattan</td>\n",
              "      <td>Harlem</td>\n",
              "      <td>40.80902</td>\n",
              "      <td>-73.94190</td>\n",
              "      <td>Private room</td>\n",
              "      <td>150</td>\n",
              "      <td>3</td>\n",
              "      <td>0</td>\n",
              "      <td>NaN</td>\n",
              "      <td>NaN</td>\n",
              "      <td>1</td>\n",
              "      <td>365</td>\n",
              "    </tr>\n",
              "    <tr>\n",
              "      <th>3</th>\n",
              "      <td>3831</td>\n",
              "      <td>Cozy Entire Floor of Brownstone</td>\n",
              "      <td>4869</td>\n",
              "      <td>LisaRoxanne</td>\n",
              "      <td>Brooklyn</td>\n",
              "      <td>Clinton Hill</td>\n",
              "      <td>40.68514</td>\n",
              "      <td>-73.95976</td>\n",
              "      <td>Entire home/apt</td>\n",
              "      <td>89</td>\n",
              "      <td>1</td>\n",
              "      <td>270</td>\n",
              "      <td>2019-07-05</td>\n",
              "      <td>4.64</td>\n",
              "      <td>1</td>\n",
              "      <td>194</td>\n",
              "    </tr>\n",
              "    <tr>\n",
              "      <th>4</th>\n",
              "      <td>5022</td>\n",
              "      <td>Entire Apt: Spacious Studio/Loft by central park</td>\n",
              "      <td>7192</td>\n",
              "      <td>Laura</td>\n",
              "      <td>Manhattan</td>\n",
              "      <td>East Harlem</td>\n",
              "      <td>40.79851</td>\n",
              "      <td>-73.94399</td>\n",
              "      <td>Entire home/apt</td>\n",
              "      <td>80</td>\n",
              "      <td>10</td>\n",
              "      <td>9</td>\n",
              "      <td>2018-11-19</td>\n",
              "      <td>0.10</td>\n",
              "      <td>1</td>\n",
              "      <td>0</td>\n",
              "    </tr>\n",
              "    <tr>\n",
              "      <th>...</th>\n",
              "      <td>...</td>\n",
              "      <td>...</td>\n",
              "      <td>...</td>\n",
              "      <td>...</td>\n",
              "      <td>...</td>\n",
              "      <td>...</td>\n",
              "      <td>...</td>\n",
              "      <td>...</td>\n",
              "      <td>...</td>\n",
              "      <td>...</td>\n",
              "      <td>...</td>\n",
              "      <td>...</td>\n",
              "      <td>...</td>\n",
              "      <td>...</td>\n",
              "      <td>...</td>\n",
              "      <td>...</td>\n",
              "    </tr>\n",
              "    <tr>\n",
              "      <th>48890</th>\n",
              "      <td>36484665</td>\n",
              "      <td>Charming one bedroom - newly renovated rowhouse</td>\n",
              "      <td>8232441</td>\n",
              "      <td>Sabrina</td>\n",
              "      <td>Brooklyn</td>\n",
              "      <td>Bedford-Stuyvesant</td>\n",
              "      <td>40.67853</td>\n",
              "      <td>-73.94995</td>\n",
              "      <td>Private room</td>\n",
              "      <td>70</td>\n",
              "      <td>2</td>\n",
              "      <td>0</td>\n",
              "      <td>NaN</td>\n",
              "      <td>NaN</td>\n",
              "      <td>2</td>\n",
              "      <td>9</td>\n",
              "    </tr>\n",
              "    <tr>\n",
              "      <th>48891</th>\n",
              "      <td>36485057</td>\n",
              "      <td>Affordable room in Bushwick/East Williamsburg</td>\n",
              "      <td>6570630</td>\n",
              "      <td>Marisol</td>\n",
              "      <td>Brooklyn</td>\n",
              "      <td>Bushwick</td>\n",
              "      <td>40.70184</td>\n",
              "      <td>-73.93317</td>\n",
              "      <td>Private room</td>\n",
              "      <td>40</td>\n",
              "      <td>4</td>\n",
              "      <td>0</td>\n",
              "      <td>NaN</td>\n",
              "      <td>NaN</td>\n",
              "      <td>2</td>\n",
              "      <td>36</td>\n",
              "    </tr>\n",
              "    <tr>\n",
              "      <th>48892</th>\n",
              "      <td>36485431</td>\n",
              "      <td>Sunny Studio at Historical Neighborhood</td>\n",
              "      <td>23492952</td>\n",
              "      <td>Ilgar &amp; Aysel</td>\n",
              "      <td>Manhattan</td>\n",
              "      <td>Harlem</td>\n",
              "      <td>40.81475</td>\n",
              "      <td>-73.94867</td>\n",
              "      <td>Entire home/apt</td>\n",
              "      <td>115</td>\n",
              "      <td>10</td>\n",
              "      <td>0</td>\n",
              "      <td>NaN</td>\n",
              "      <td>NaN</td>\n",
              "      <td>1</td>\n",
              "      <td>27</td>\n",
              "    </tr>\n",
              "    <tr>\n",
              "      <th>48893</th>\n",
              "      <td>36485609</td>\n",
              "      <td>43rd St. Time Square-cozy single bed</td>\n",
              "      <td>30985759</td>\n",
              "      <td>Taz</td>\n",
              "      <td>Manhattan</td>\n",
              "      <td>Hell's Kitchen</td>\n",
              "      <td>40.75751</td>\n",
              "      <td>-73.99112</td>\n",
              "      <td>Shared room</td>\n",
              "      <td>55</td>\n",
              "      <td>1</td>\n",
              "      <td>0</td>\n",
              "      <td>NaN</td>\n",
              "      <td>NaN</td>\n",
              "      <td>6</td>\n",
              "      <td>2</td>\n",
              "    </tr>\n",
              "    <tr>\n",
              "      <th>48894</th>\n",
              "      <td>36487245</td>\n",
              "      <td>Trendy duplex in the very heart of Hell's Kitchen</td>\n",
              "      <td>68119814</td>\n",
              "      <td>Christophe</td>\n",
              "      <td>Manhattan</td>\n",
              "      <td>Hell's Kitchen</td>\n",
              "      <td>40.76404</td>\n",
              "      <td>-73.98933</td>\n",
              "      <td>Private room</td>\n",
              "      <td>90</td>\n",
              "      <td>7</td>\n",
              "      <td>0</td>\n",
              "      <td>NaN</td>\n",
              "      <td>NaN</td>\n",
              "      <td>1</td>\n",
              "      <td>23</td>\n",
              "    </tr>\n",
              "  </tbody>\n",
              "</table>\n",
              "<p>48895 rows × 16 columns</p>\n",
              "</div>"
            ],
            "text/plain": [
              "             id  ... availability_365\n",
              "0          2539  ...              365\n",
              "1          2595  ...              355\n",
              "2          3647  ...              365\n",
              "3          3831  ...              194\n",
              "4          5022  ...                0\n",
              "...         ...  ...              ...\n",
              "48890  36484665  ...                9\n",
              "48891  36485057  ...               36\n",
              "48892  36485431  ...               27\n",
              "48893  36485609  ...                2\n",
              "48894  36487245  ...               23\n",
              "\n",
              "[48895 rows x 16 columns]"
            ]
          },
          "metadata": {},
          "execution_count": 5
        }
      ]
    },
    {
      "cell_type": "code",
      "metadata": {
        "id": "NBR70BaWJ6a0"
      },
      "source": [
        "df.columns = df.columns.str.lower().str.replace(' ', '_')\n",
        "string_columns = list(df.dtypes[df.dtypes == 'object'].index)\n",
        "for col in string_columns:\n",
        "    df[col] = df[col].str.lower().str.replace(' ', '_')"
      ],
      "execution_count": null,
      "outputs": []
    },
    {
      "cell_type": "code",
      "metadata": {
        "id": "3NYE4jROKqU9"
      },
      "source": [
        "features = ['latitude','longitude','price','minimum_nights',\n",
        "'number_of_reviews','reviews_per_month',\n",
        "'calculated_host_listings_count','availability_365']"
      ],
      "execution_count": null,
      "outputs": []
    },
    {
      "cell_type": "code",
      "metadata": {
        "colab": {
          "base_uri": "https://localhost:8080/",
          "height": 295
        },
        "id": "tFOAg94zLSye",
        "outputId": "e7be6d1d-4561-471d-cccf-1ea6a9db87f8"
      },
      "source": [
        "sns.histplot(df.price, bins=50)\n",
        "plt.ylabel('Frequency')\n",
        "plt.xlabel('Price')\n",
        "plt.title('Distribution of prices')\n",
        "plt.show()"
      ],
      "execution_count": null,
      "outputs": [
        {
          "output_type": "display_data",
          "data": {
            "image/png": "[encoded data removed]",
            "text/plain": [
              "<Figure size 432x288 with 1 Axes>"
            ]
          },
          "metadata": {
            "needs_background": "light"
          }
        }
      ]
    },
    {
      "cell_type": "code",
      "metadata": {
        "colab": {
          "base_uri": "https://localhost:8080/",
          "height": 295
        },
        "id": "waEWyHtbLc1Q",
        "outputId": "3fa09973-30fe-4e4b-eda2-dc0a0bdc69cd"
      },
      "source": [
        "sns.histplot(df.price[df.price < 1000], bins=50)\n",
        "plt.ylabel('Frequency')\n",
        "plt.xlabel('Price')\n",
        "plt.title('Distribution of prices')\n",
        "plt.show()"
      ],
      "execution_count": null,
      "outputs": [
        {
          "output_type": "display_data",
          "data": {
            "image/png": "[encoded data removed]",
            "text/plain": [
              "<Figure size 432x288 with 1 Axes>"
            ]
          },
          "metadata": {
            "needs_background": "light"
          }
        }
      ]
    },
    {
      "cell_type": "code",
      "metadata": {
        "colab": {
          "base_uri": "https://localhost:8080/",
          "height": 295
        },
        "id": "y4x233UYLo3P",
        "outputId": "0e5425ee-e912-4868-c9af-98221dab015c"
      },
      "source": [
        "sns.histplot(df.price[df.price < 2000], bins=50)\n",
        "plt.ylabel('Frequency')\n",
        "plt.xlabel('Price')\n",
        "plt.title('Distribution of prices')\n",
        "plt.show()"
      ],
      "execution_count": null,
      "outputs": [
        {
          "output_type": "display_data",
          "data": {
            "image/png": "[encoded data removed]",
            "text/plain": [
              "<Figure size 432x288 with 1 Axes>"
            ]
          },
          "metadata": {
            "needs_background": "light"
          }
        }
      ]
    },
    {
      "cell_type": "code",
      "metadata": {
        "colab": {
          "base_uri": "https://localhost:8080/",
          "height": 295
        },
        "id": "0wgkVaI5L0d3",
        "outputId": "f4c9de25-8c23-40ba-9e28-26b35e0aab2a"
      },
      "source": [
        "log_price = np.log1p(df.price)\n",
        "sns.histplot(log_price, bins=50)\n",
        "plt.ylabel('Frequency')\n",
        "plt.xlabel('Log(Price + 1)')\n",
        "plt.title('Distribution of prices after log tranformation')\n",
        "plt.show()"
      ],
      "execution_count": null,
      "outputs": [
        {
          "output_type": "display_data",
          "data": {
            "image/png": "[encoded data removed]",
            "text/plain": [
              "<Figure size 432x288 with 1 Axes>"
            ]
          },
          "metadata": {
            "needs_background": "light"
          }
        }
      ]
    },
    {
      "cell_type": "markdown",
      "metadata": {
        "id": "03Tldsh2No8X"
      },
      "source": [
        "## Homework"
      ]
    },
    {
      "cell_type": "markdown",
      "metadata": {
        "id": "1KPLpLrDNrh_"
      },
      "source": [
        "### Question 1\n",
        "##### Find a feature with missing values. How many missing values does it have?"
      ]
    },
    {
      "cell_type": "code",
      "metadata": {
        "colab": {
          "base_uri": "https://localhost:8080/"
        },
        "id": "tgxduwytMqQ7",
        "outputId": "634ae1e6-1207-4c3c-af05-ecd4623129ca"
      },
      "source": [
        "df[features].isnull().sum()"
      ],
      "execution_count": null,
      "outputs": [
        {
          "output_type": "execute_result",
          "data": {
            "text/plain": [
              "latitude                              0\n",
              "longitude                             0\n",
              "price                                 0\n",
              "minimum_nights                        0\n",
              "number_of_reviews                     0\n",
              "reviews_per_month                 10052\n",
              "calculated_host_listings_count        0\n",
              "availability_365                      0\n",
              "dtype: int64"
            ]
          },
          "metadata": {},
          "execution_count": 24
        }
      ]
    },
    {
      "cell_type": "code",
      "metadata": {
        "colab": {
          "base_uri": "https://localhost:8080/"
        },
        "id": "xs5jOBb6N_LO",
        "outputId": "8993d48d-db74-4957-e8c4-7c4ecfb807ea"
      },
      "source": [
        "df['reviews_per_month'].isnull().sum()"
      ],
      "execution_count": null,
      "outputs": [
        {
          "output_type": "execute_result",
          "data": {
            "text/plain": [
              "10052"
            ]
          },
          "metadata": {},
          "execution_count": 26
        }
      ]
    },
    {
      "cell_type": "markdown",
      "metadata": {
        "id": "ZWNgVsH3OIj_"
      },
      "source": [
        "### Question 2\n",
        "##### What's the median (50% percentile) for variable 'minimum_nights'?"
      ]
    },
    {
      "cell_type": "code",
      "metadata": {
        "colab": {
          "base_uri": "https://localhost:8080/"
        },
        "id": "Mxg7aPuYOE0u",
        "outputId": "c8c28f48-5bf2-4217-8b8a-312faab3f812"
      },
      "source": [
        "median_minimum_nights = df['minimum_nights'].median()\n",
        "median_minimum_nights"
      ],
      "execution_count": null,
      "outputs": [
        {
          "output_type": "execute_result",
          "data": {
            "text/plain": [
              "3.0"
            ]
          },
          "metadata": {},
          "execution_count": 27
        }
      ]
    },
    {
      "cell_type": "markdown",
      "metadata": {
        "id": "ZphJ4DCFOWGY"
      },
      "source": [
        "### Split the data\n",
        "#####Shuffle the initial dataset, use seed 42.\n",
        "\n",
        "*   Split your data in train/val/test sets, with 60%/20%/20% distribution.\n",
        "*   Make sure that the target value ('price') is not in your dataframe.\n",
        "*   Apply the log transformation to the price variable using the np.log1p() function."
      ]
    },
    {
      "cell_type": "code",
      "metadata": {
        "colab": {
          "base_uri": "https://localhost:8080/",
          "height": 437
        },
        "id": "sp3IlKB7kB1L",
        "outputId": "74a6720a-b2c3-4d44-910b-7c8f49e84cd4"
      },
      "source": [
        "df_shuffled = df\n",
        "n = len(df_shuffled)\n",
        "\n",
        "np.random.seed(42)\n",
        "idx = np.arange(n)\n",
        "np.random.shuffle(idx)\n",
        "\n",
        "df_shuffled = df_shuffled.iloc[idx]\n",
        "df_shuffled"
      ],
      "execution_count": null,
      "outputs": [
        {
          "output_type": "execute_result",
          "data": {
            "text/html": [
              "<div>\n",
              "<style scoped>\n",
              "    .dataframe tbody tr th:only-of-type {\n",
              "        vertical-align: middle;\n",
              "    }\n",
              "\n",
              "    .dataframe tbody tr th {\n",
              "        vertical-align: top;\n",
              "    }\n",
              "\n",
              "    .dataframe thead th {\n",
              "        text-align: right;\n",
              "    }\n",
              "</style>\n",
              "<table border=\"1\" class=\"dataframe\">\n",
              "  <thead>\n",
              "    <tr style=\"text-align: right;\">\n",
              "      <th></th>\n",
              "      <th>id</th>\n",
              "      <th>name</th>\n",
              "      <th>host_id</th>\n",
              "      <th>host_name</th>\n",
              "      <th>neighbourhood_group</th>\n",
              "      <th>neighbourhood</th>\n",
              "      <th>latitude</th>\n",
              "      <th>longitude</th>\n",
              "      <th>room_type</th>\n",
              "      <th>price</th>\n",
              "      <th>minimum_nights</th>\n",
              "      <th>number_of_reviews</th>\n",
              "      <th>last_review</th>\n",
              "      <th>reviews_per_month</th>\n",
              "      <th>calculated_host_listings_count</th>\n",
              "      <th>availability_365</th>\n",
              "    </tr>\n",
              "  </thead>\n",
              "  <tbody>\n",
              "    <tr>\n",
              "      <th>879</th>\n",
              "      <td>317905</td>\n",
              "      <td>come_and_go_as__you_please_in_bkln!</td>\n",
              "      <td>1631733</td>\n",
              "      <td>jane</td>\n",
              "      <td>brooklyn</td>\n",
              "      <td>kensington</td>\n",
              "      <td>40.64354</td>\n",
              "      <td>-73.97777</td>\n",
              "      <td>entire_home/apt</td>\n",
              "      <td>89</td>\n",
              "      <td>3</td>\n",
              "      <td>62</td>\n",
              "      <td>2019-01-02</td>\n",
              "      <td>0.71</td>\n",
              "      <td>1</td>\n",
              "      <td>189</td>\n",
              "    </tr>\n",
              "    <tr>\n",
              "      <th>44383</th>\n",
              "      <td>34205267</td>\n",
              "      <td>spacious,_sunny_room_in_queens/brooklyn</td>\n",
              "      <td>913940</td>\n",
              "      <td>giancarlo</td>\n",
              "      <td>queens</td>\n",
              "      <td>ridgewood</td>\n",
              "      <td>40.70666</td>\n",
              "      <td>-73.90779</td>\n",
              "      <td>private_room</td>\n",
              "      <td>30</td>\n",
              "      <td>21</td>\n",
              "      <td>0</td>\n",
              "      <td>NaN</td>\n",
              "      <td>NaN</td>\n",
              "      <td>1</td>\n",
              "      <td>73</td>\n",
              "    </tr>\n",
              "    <tr>\n",
              "      <th>15394</th>\n",
              "      <td>12342297</td>\n",
              "      <td>private_bedroom_in_high-ceiling_4br_apartment!</td>\n",
              "      <td>19953913</td>\n",
              "      <td>alejandro</td>\n",
              "      <td>manhattan</td>\n",
              "      <td>hell's_kitchen</td>\n",
              "      <td>40.76116</td>\n",
              "      <td>-73.99016</td>\n",
              "      <td>private_room</td>\n",
              "      <td>120</td>\n",
              "      <td>2</td>\n",
              "      <td>17</td>\n",
              "      <td>2017-04-28</td>\n",
              "      <td>0.43</td>\n",
              "      <td>1</td>\n",
              "      <td>0</td>\n",
              "    </tr>\n",
              "    <tr>\n",
              "      <th>43230</th>\n",
              "      <td>33527778</td>\n",
              "      <td>sonder_|_stock_exchange_|_stunning_3br_+_kitchen</td>\n",
              "      <td>219517861</td>\n",
              "      <td>sonder_(nyc)</td>\n",
              "      <td>manhattan</td>\n",
              "      <td>financial_district</td>\n",
              "      <td>40.70763</td>\n",
              "      <td>-74.01050</td>\n",
              "      <td>entire_home/apt</td>\n",
              "      <td>470</td>\n",
              "      <td>2</td>\n",
              "      <td>5</td>\n",
              "      <td>2019-06-02</td>\n",
              "      <td>1.88</td>\n",
              "      <td>327</td>\n",
              "      <td>272</td>\n",
              "    </tr>\n",
              "    <tr>\n",
              "      <th>16332</th>\n",
              "      <td>13136376</td>\n",
              "      <td>spacious_2_bedroom_with_balcony</td>\n",
              "      <td>16110448</td>\n",
              "      <td>gingie</td>\n",
              "      <td>manhattan</td>\n",
              "      <td>east_harlem</td>\n",
              "      <td>40.79658</td>\n",
              "      <td>-73.93287</td>\n",
              "      <td>entire_home/apt</td>\n",
              "      <td>199</td>\n",
              "      <td>2</td>\n",
              "      <td>30</td>\n",
              "      <td>2019-06-03</td>\n",
              "      <td>0.80</td>\n",
              "      <td>1</td>\n",
              "      <td>30</td>\n",
              "    </tr>\n",
              "    <tr>\n",
              "      <th>...</th>\n",
              "      <td>...</td>\n",
              "      <td>...</td>\n",
              "      <td>...</td>\n",
              "      <td>...</td>\n",
              "      <td>...</td>\n",
              "      <td>...</td>\n",
              "      <td>...</td>\n",
              "      <td>...</td>\n",
              "      <td>...</td>\n",
              "      <td>...</td>\n",
              "      <td>...</td>\n",
              "      <td>...</td>\n",
              "      <td>...</td>\n",
              "      <td>...</td>\n",
              "      <td>...</td>\n",
              "      <td>...</td>\n",
              "    </tr>\n",
              "    <tr>\n",
              "      <th>11284</th>\n",
              "      <td>8754339</td>\n",
              "      <td>gran_fondo_cyclist_haven</td>\n",
              "      <td>20261309</td>\n",
              "      <td>sarah</td>\n",
              "      <td>manhattan</td>\n",
              "      <td>washington_heights</td>\n",
              "      <td>40.84650</td>\n",
              "      <td>-73.94319</td>\n",
              "      <td>shared_room</td>\n",
              "      <td>60</td>\n",
              "      <td>1</td>\n",
              "      <td>0</td>\n",
              "      <td>NaN</td>\n",
              "      <td>NaN</td>\n",
              "      <td>1</td>\n",
              "      <td>0</td>\n",
              "    </tr>\n",
              "    <tr>\n",
              "      <th>44732</th>\n",
              "      <td>34383329</td>\n",
              "      <td>a_private_bedroom_in_chelsea_,_manhattan.</td>\n",
              "      <td>53254710</td>\n",
              "      <td>aamito</td>\n",
              "      <td>manhattan</td>\n",
              "      <td>chelsea</td>\n",
              "      <td>40.73957</td>\n",
              "      <td>-74.00082</td>\n",
              "      <td>private_room</td>\n",
              "      <td>85</td>\n",
              "      <td>2</td>\n",
              "      <td>4</td>\n",
              "      <td>2019-06-30</td>\n",
              "      <td>1.90</td>\n",
              "      <td>1</td>\n",
              "      <td>76</td>\n",
              "    </tr>\n",
              "    <tr>\n",
              "      <th>38158</th>\n",
              "      <td>30109697</td>\n",
              "      <td>nicely_appointed_big_one_bedroom_off_central_park</td>\n",
              "      <td>1385157</td>\n",
              "      <td>brian</td>\n",
              "      <td>manhattan</td>\n",
              "      <td>upper_west_side</td>\n",
              "      <td>40.78318</td>\n",
              "      <td>-73.97372</td>\n",
              "      <td>entire_home/apt</td>\n",
              "      <td>130</td>\n",
              "      <td>30</td>\n",
              "      <td>1</td>\n",
              "      <td>2019-04-12</td>\n",
              "      <td>0.34</td>\n",
              "      <td>5</td>\n",
              "      <td>261</td>\n",
              "    </tr>\n",
              "    <tr>\n",
              "      <th>860</th>\n",
              "      <td>304799</td>\n",
              "      <td>penthouse_studio_by_central_park</td>\n",
              "      <td>185753</td>\n",
              "      <td>carolyn</td>\n",
              "      <td>manhattan</td>\n",
              "      <td>upper_west_side</td>\n",
              "      <td>40.77508</td>\n",
              "      <td>-73.97990</td>\n",
              "      <td>entire_home/apt</td>\n",
              "      <td>150</td>\n",
              "      <td>2</td>\n",
              "      <td>11</td>\n",
              "      <td>2019-06-09</td>\n",
              "      <td>0.13</td>\n",
              "      <td>1</td>\n",
              "      <td>2</td>\n",
              "    </tr>\n",
              "    <tr>\n",
              "      <th>15795</th>\n",
              "      <td>12775106</td>\n",
              "      <td>apartment_nyc_-_10_to_20_june</td>\n",
              "      <td>1722054</td>\n",
              "      <td>cristian</td>\n",
              "      <td>queens</td>\n",
              "      <td>long_island_city</td>\n",
              "      <td>40.74657</td>\n",
              "      <td>-73.94555</td>\n",
              "      <td>entire_home/apt</td>\n",
              "      <td>120</td>\n",
              "      <td>5</td>\n",
              "      <td>1</td>\n",
              "      <td>2016-06-19</td>\n",
              "      <td>0.03</td>\n",
              "      <td>1</td>\n",
              "      <td>0</td>\n",
              "    </tr>\n",
              "  </tbody>\n",
              "</table>\n",
              "<p>48895 rows × 16 columns</p>\n",
              "</div>"
            ],
            "text/plain": [
              "             id  ... availability_365\n",
              "879      317905  ...              189\n",
              "44383  34205267  ...               73\n",
              "15394  12342297  ...                0\n",
              "43230  33527778  ...              272\n",
              "16332  13136376  ...               30\n",
              "...         ...  ...              ...\n",
              "11284   8754339  ...                0\n",
              "44732  34383329  ...               76\n",
              "38158  30109697  ...              261\n",
              "860      304799  ...                2\n",
              "15795  12775106  ...                0\n",
              "\n",
              "[48895 rows x 16 columns]"
            ]
          },
          "metadata": {},
          "execution_count": 35
        }
      ]
    },
    {
      "cell_type": "code",
      "metadata": {
        "colab": {
          "base_uri": "https://localhost:8080/"
        },
        "id": "oCeSalSROU8r",
        "outputId": "90e9caa7-4ee7-4bc5-f94f-af493c5b12a9"
      },
      "source": [
        "n_val = int(n * 0.2)\n",
        "n_test = int(n * 0.2)\n",
        "n_train = n - n_val - n_test\n",
        "n_train, n_val, n_test"
      ],
      "execution_count": null,
      "outputs": [
        {
          "output_type": "execute_result",
          "data": {
            "text/plain": [
              "(29337, 9779, 9779)"
            ]
          },
          "metadata": {},
          "execution_count": 32
        }
      ]
    },
    {
      "cell_type": "code",
      "metadata": {
        "colab": {
          "base_uri": "https://localhost:8080/",
          "height": 454
        },
        "id": "sPzQpsfljhs5",
        "outputId": "b7282402-f475-4ee1-9e00-37ec8a0b5386"
      },
      "source": [
        "df_train = df_shuffled.iloc[:n_train]\n",
        "df_val = df_shuffled.iloc[n_train:n_train+n_val]\n",
        "df_test = df_shuffled.iloc[n_train+n_val:]\n",
        "\n",
        "df_train = df_train.reset_index(drop = True)\n",
        "df_val = df_val.reset_index(drop = True)\n",
        "df_test = df_test.reset_index(drop = True)\n",
        "\n",
        "y_train = np.log1p(df_train.price.values)\n",
        "y_val = np.log1p(df_val.price.values)\n",
        "y_test = np.log1p(df_test.price.values)\n",
        "\n",
        "del df_train['price']\n",
        "del df_val['price']\n",
        "del df_test['price']\n",
        "\n",
        "df_train"
      ],
      "execution_count": null,
      "outputs": [
        {
          "output_type": "execute_result",
          "data": {
            "text/html": [
              "<div>\n",
              "<style scoped>\n",
              "    .dataframe tbody tr th:only-of-type {\n",
              "        vertical-align: middle;\n",
              "    }\n",
              "\n",
              "    .dataframe tbody tr th {\n",
              "        vertical-align: top;\n",
              "    }\n",
              "\n",
              "    .dataframe thead th {\n",
              "        text-align: right;\n",
              "    }\n",
              "</style>\n",
              "<table border=\"1\" class=\"dataframe\">\n",
              "  <thead>\n",
              "    <tr style=\"text-align: right;\">\n",
              "      <th></th>\n",
              "      <th>id</th>\n",
              "      <th>name</th>\n",
              "      <th>host_id</th>\n",
              "      <th>host_name</th>\n",
              "      <th>neighbourhood_group</th>\n",
              "      <th>neighbourhood</th>\n",
              "      <th>latitude</th>\n",
              "      <th>longitude</th>\n",
              "      <th>room_type</th>\n",
              "      <th>minimum_nights</th>\n",
              "      <th>number_of_reviews</th>\n",
              "      <th>last_review</th>\n",
              "      <th>reviews_per_month</th>\n",
              "      <th>calculated_host_listings_count</th>\n",
              "      <th>availability_365</th>\n",
              "    </tr>\n",
              "  </thead>\n",
              "  <tbody>\n",
              "    <tr>\n",
              "      <th>0</th>\n",
              "      <td>317905</td>\n",
              "      <td>come_and_go_as__you_please_in_bkln!</td>\n",
              "      <td>1631733</td>\n",
              "      <td>jane</td>\n",
              "      <td>brooklyn</td>\n",
              "      <td>kensington</td>\n",
              "      <td>40.64354</td>\n",
              "      <td>-73.97777</td>\n",
              "      <td>entire_home/apt</td>\n",
              "      <td>3</td>\n",
              "      <td>62</td>\n",
              "      <td>2019-01-02</td>\n",
              "      <td>0.71</td>\n",
              "      <td>1</td>\n",
              "      <td>189</td>\n",
              "    </tr>\n",
              "    <tr>\n",
              "      <th>1</th>\n",
              "      <td>34205267</td>\n",
              "      <td>spacious,_sunny_room_in_queens/brooklyn</td>\n",
              "      <td>913940</td>\n",
              "      <td>giancarlo</td>\n",
              "      <td>queens</td>\n",
              "      <td>ridgewood</td>\n",
              "      <td>40.70666</td>\n",
              "      <td>-73.90779</td>\n",
              "      <td>private_room</td>\n",
              "      <td>21</td>\n",
              "      <td>0</td>\n",
              "      <td>NaN</td>\n",
              "      <td>NaN</td>\n",
              "      <td>1</td>\n",
              "      <td>73</td>\n",
              "    </tr>\n",
              "    <tr>\n",
              "      <th>2</th>\n",
              "      <td>12342297</td>\n",
              "      <td>private_bedroom_in_high-ceiling_4br_apartment!</td>\n",
              "      <td>19953913</td>\n",
              "      <td>alejandro</td>\n",
              "      <td>manhattan</td>\n",
              "      <td>hell's_kitchen</td>\n",
              "      <td>40.76116</td>\n",
              "      <td>-73.99016</td>\n",
              "      <td>private_room</td>\n",
              "      <td>2</td>\n",
              "      <td>17</td>\n",
              "      <td>2017-04-28</td>\n",
              "      <td>0.43</td>\n",
              "      <td>1</td>\n",
              "      <td>0</td>\n",
              "    </tr>\n",
              "    <tr>\n",
              "      <th>3</th>\n",
              "      <td>33527778</td>\n",
              "      <td>sonder_|_stock_exchange_|_stunning_3br_+_kitchen</td>\n",
              "      <td>219517861</td>\n",
              "      <td>sonder_(nyc)</td>\n",
              "      <td>manhattan</td>\n",
              "      <td>financial_district</td>\n",
              "      <td>40.70763</td>\n",
              "      <td>-74.01050</td>\n",
              "      <td>entire_home/apt</td>\n",
              "      <td>2</td>\n",
              "      <td>5</td>\n",
              "      <td>2019-06-02</td>\n",
              "      <td>1.88</td>\n",
              "      <td>327</td>\n",
              "      <td>272</td>\n",
              "    </tr>\n",
              "    <tr>\n",
              "      <th>4</th>\n",
              "      <td>13136376</td>\n",
              "      <td>spacious_2_bedroom_with_balcony</td>\n",
              "      <td>16110448</td>\n",
              "      <td>gingie</td>\n",
              "      <td>manhattan</td>\n",
              "      <td>east_harlem</td>\n",
              "      <td>40.79658</td>\n",
              "      <td>-73.93287</td>\n",
              "      <td>entire_home/apt</td>\n",
              "      <td>2</td>\n",
              "      <td>30</td>\n",
              "      <td>2019-06-03</td>\n",
              "      <td>0.80</td>\n",
              "      <td>1</td>\n",
              "      <td>30</td>\n",
              "    </tr>\n",
              "    <tr>\n",
              "      <th>...</th>\n",
              "      <td>...</td>\n",
              "      <td>...</td>\n",
              "      <td>...</td>\n",
              "      <td>...</td>\n",
              "      <td>...</td>\n",
              "      <td>...</td>\n",
              "      <td>...</td>\n",
              "      <td>...</td>\n",
              "      <td>...</td>\n",
              "      <td>...</td>\n",
              "      <td>...</td>\n",
              "      <td>...</td>\n",
              "      <td>...</td>\n",
              "      <td>...</td>\n",
              "      <td>...</td>\n",
              "    </tr>\n",
              "    <tr>\n",
              "      <th>29332</th>\n",
              "      <td>11923007</td>\n",
              "      <td>trendy_&amp;_spacious_williamsburg_apt</td>\n",
              "      <td>7640852</td>\n",
              "      <td>markus</td>\n",
              "      <td>brooklyn</td>\n",
              "      <td>williamsburg</td>\n",
              "      <td>40.71178</td>\n",
              "      <td>-73.95779</td>\n",
              "      <td>private_room</td>\n",
              "      <td>2</td>\n",
              "      <td>0</td>\n",
              "      <td>NaN</td>\n",
              "      <td>NaN</td>\n",
              "      <td>1</td>\n",
              "      <td>0</td>\n",
              "    </tr>\n",
              "    <tr>\n",
              "      <th>29333</th>\n",
              "      <td>11581737</td>\n",
              "      <td>1_bedroom_apt_-_near_central_park</td>\n",
              "      <td>196298</td>\n",
              "      <td>hiershenee_b.</td>\n",
              "      <td>manhattan</td>\n",
              "      <td>upper_west_side</td>\n",
              "      <td>40.78638</td>\n",
              "      <td>-73.97004</td>\n",
              "      <td>entire_home/apt</td>\n",
              "      <td>30</td>\n",
              "      <td>10</td>\n",
              "      <td>2019-01-08</td>\n",
              "      <td>0.40</td>\n",
              "      <td>1</td>\n",
              "      <td>0</td>\n",
              "    </tr>\n",
              "    <tr>\n",
              "      <th>29334</th>\n",
              "      <td>19717723</td>\n",
              "      <td>tiny_studio_in_eastvillage</td>\n",
              "      <td>49656804</td>\n",
              "      <td>marija</td>\n",
              "      <td>manhattan</td>\n",
              "      <td>east_village</td>\n",
              "      <td>40.72716</td>\n",
              "      <td>-73.98524</td>\n",
              "      <td>entire_home/apt</td>\n",
              "      <td>3</td>\n",
              "      <td>75</td>\n",
              "      <td>2019-07-01</td>\n",
              "      <td>3.12</td>\n",
              "      <td>1</td>\n",
              "      <td>60</td>\n",
              "    </tr>\n",
              "    <tr>\n",
              "      <th>29335</th>\n",
              "      <td>24489174</td>\n",
              "      <td>comfortable,spacious,clean_private_room</td>\n",
              "      <td>184523531</td>\n",
              "      <td>june</td>\n",
              "      <td>manhattan</td>\n",
              "      <td>east_harlem</td>\n",
              "      <td>40.79578</td>\n",
              "      <td>-73.94523</td>\n",
              "      <td>private_room</td>\n",
              "      <td>2</td>\n",
              "      <td>31</td>\n",
              "      <td>2019-06-23</td>\n",
              "      <td>2.10</td>\n",
              "      <td>1</td>\n",
              "      <td>265</td>\n",
              "    </tr>\n",
              "    <tr>\n",
              "      <th>29336</th>\n",
              "      <td>22361657</td>\n",
              "      <td>friendly_and_artsy_brooklyn_bedroom</td>\n",
              "      <td>5778653</td>\n",
              "      <td>trisha</td>\n",
              "      <td>brooklyn</td>\n",
              "      <td>bedford-stuyvesant</td>\n",
              "      <td>40.69671</td>\n",
              "      <td>-73.94896</td>\n",
              "      <td>private_room</td>\n",
              "      <td>1</td>\n",
              "      <td>1</td>\n",
              "      <td>2017-12-31</td>\n",
              "      <td>0.05</td>\n",
              "      <td>1</td>\n",
              "      <td>0</td>\n",
              "    </tr>\n",
              "  </tbody>\n",
              "</table>\n",
              "<p>29337 rows × 15 columns</p>\n",
              "</div>"
            ],
            "text/plain": [
              "             id  ... availability_365\n",
              "0        317905  ...              189\n",
              "1      34205267  ...               73\n",
              "2      12342297  ...                0\n",
              "3      33527778  ...              272\n",
              "4      13136376  ...               30\n",
              "...         ...  ...              ...\n",
              "29332  11923007  ...                0\n",
              "29333  11581737  ...                0\n",
              "29334  19717723  ...               60\n",
              "29335  24489174  ...              265\n",
              "29336  22361657  ...                0\n",
              "\n",
              "[29337 rows x 15 columns]"
            ]
          },
          "metadata": {},
          "execution_count": 36
        }
      ]
    },
    {
      "cell_type": "code",
      "metadata": {
        "colab": {
          "base_uri": "https://localhost:8080/",
          "height": 282
        },
        "id": "OrnuixzHjhpe",
        "outputId": "98d825f9-b9e6-4124-eef5-fa865a76b0ef"
      },
      "source": [
        "sns.histplot(y_train, bins=50)"
      ],
      "execution_count": null,
      "outputs": [
        {
          "output_type": "execute_result",
          "data": {
            "text/plain": [
              "<matplotlib.axes._subplots.AxesSubplot at 0x7efd47caf710>"
            ]
          },
          "metadata": {},
          "execution_count": 34
        },
        {
          "output_type": "display_data",
          "data": {
            "image/png": "[encoded data removed]",
            "text/plain": [
              "<Figure size 432x288 with 1 Axes>"
            ]
          },
          "metadata": {
            "needs_background": "light"
          }
        }
      ]
    },
    {
      "cell_type": "markdown",
      "metadata": {
        "id": "9KNoEWysQPq3"
      },
      "source": [
        "### Question 3\n",
        "*   We need to deal with missing values for the column from Q1.\n",
        "*   We have two options: fill it with 0 or with the mean of this variable.\n",
        "*   Try both options. For each, train a linear regression model without regularization using the code from the lessons.\n",
        "*   For computing the mean, use the training only!\n",
        "*   Use the validation dataset to evaluate the models and compare the RMSE of each option.\n",
        "*   Round the RMSE scores to 2 decimal digits using round(score, 2)\n",
        "##### Which option gives better RMSE?\n",
        "\n"
      ]
    },
    {
      "cell_type": "code",
      "metadata": {
        "id": "FXCp-h-ZVz8T"
      },
      "source": [
        "def train_linear_regression(X, y):\n",
        "    ones = np.ones(X.shape[0])\n",
        "    X = np.column_stack([ones, X])\n",
        "    \n",
        "    XTX = X.T.dot(X)\n",
        "    XTX_inv = np.linalg.inv(XTX)\n",
        "    \n",
        "    w = XTX_inv.dot(X.T).dot(y)\n",
        "    return w[0], w[1:]\n",
        "\n",
        "def prepare_X(df , to_fill_with):\n",
        "    df_num = df[base]\n",
        "    df_num = df_num.fillna(to_fill_with)\n",
        "    X = df_num.values\n",
        "    return X\n",
        "\n",
        "def rmse(y , y_pred):\n",
        "    se = (y - y_pred) ** 2\n",
        "    mse = se.mean()\n",
        "    return np.sqrt(mse)"
      ],
      "execution_count": null,
      "outputs": []
    },
    {
      "cell_type": "code",
      "metadata": {
        "id": "Vie8bKcHXEQs"
      },
      "source": [
        "base = ['latitude','longitude','minimum_nights',\n",
        "'number_of_reviews','reviews_per_month',\n",
        "'calculated_host_listings_count','availability_365']"
      ],
      "execution_count": null,
      "outputs": []
    },
    {
      "cell_type": "code",
      "metadata": {
        "colab": {
          "base_uri": "https://localhost:8080/"
        },
        "id": "C5dsFojQlaxH",
        "outputId": "1c75d26c-312c-4fb3-d391-824966aa39d1"
      },
      "source": [
        "# Fill missing values with 0\n",
        "X_train = prepare_X(df_train , 0)\n",
        "w0 , w = train_linear_regression(X_train , y_train)\n",
        "w0 , w"
      ],
      "execution_count": null,
      "outputs": [
        {
          "output_type": "execute_result",
          "data": {
            "text/plain": [
              "(-419.91265807142094,\n",
              " array([ 1.30676225e+00, -5.02167854e+00, -5.59803109e-04, -4.07634896e-04,\n",
              "        -8.25470069e-03,  1.33371320e-03,  6.50203890e-04]))"
            ]
          },
          "metadata": {},
          "execution_count": 39
        }
      ]
    },
    {
      "cell_type": "code",
      "metadata": {
        "colab": {
          "base_uri": "https://localhost:8080/"
        },
        "id": "i9cLWqmWlrtj",
        "outputId": "e4533de4-c593-4daf-a04c-7b3f07c5d756"
      },
      "source": [
        "# Evaluate the model using validation dataset\n",
        "X_val = prepare_X(df_val, 0)\n",
        "y_pred = w0 + X_val.dot(w)\n",
        "\n",
        "# Calculate RMSE for 1st option (filling missing values with 0)\n",
        "score = rmse(y_val , y_pred)\n",
        "round(score , 2)"
      ],
      "execution_count": null,
      "outputs": [
        {
          "output_type": "execute_result",
          "data": {
            "text/plain": [
              "0.64"
            ]
          },
          "metadata": {},
          "execution_count": 41
        }
      ]
    },
    {
      "cell_type": "code",
      "metadata": {
        "colab": {
          "base_uri": "https://localhost:8080/"
        },
        "id": "8iTty1FclsM8",
        "outputId": "1f9616d0-e422-46c6-b080-53d3b8d5988a"
      },
      "source": [
        "# Calculate mean of train dataset (for filling missing values)\n",
        "mean = df_train['reviews_per_month'].mean()\n",
        "mean"
      ],
      "execution_count": null,
      "outputs": [
        {
          "output_type": "execute_result",
          "data": {
            "text/plain": [
              "1.3685492094777056"
            ]
          },
          "metadata": {},
          "execution_count": 42
        }
      ]
    },
    {
      "cell_type": "code",
      "metadata": {
        "colab": {
          "base_uri": "https://localhost:8080/"
        },
        "id": "hNlLlnOZmcCS",
        "outputId": "21655334-8868-4027-d72b-6668270bfabf"
      },
      "source": [
        "# Fill missing values with mean\n",
        "X_train = prepare_X(df_train , mean)\n",
        "w0 , w = train_linear_regression(X_train , y_train)\n",
        "w0, w"
      ],
      "execution_count": null,
      "outputs": [
        {
          "output_type": "execute_result",
          "data": {
            "text/plain": [
              "(-423.5393076139524,\n",
              " array([ 1.31148321e+00, -5.06799071e+00, -4.87741552e-04, -6.63849280e-04,\n",
              "         5.34563271e-03,  1.32706020e-03,  6.38794182e-04]))"
            ]
          },
          "metadata": {},
          "execution_count": 46
        }
      ]
    },
    {
      "cell_type": "code",
      "metadata": {
        "colab": {
          "base_uri": "https://localhost:8080/"
        },
        "id": "_bN_Q5Rem8WV",
        "outputId": "61b4ce5f-c8bb-41a3-a114-f3c57b5dbffa"
      },
      "source": [
        "# Evaluate the model using validation dataset\n",
        "X_val = prepare_X(df_val, mean)\n",
        "y_pred = w0 + X_val.dot(w)\n",
        "\n",
        "# Calculate RMSE for 2nd option (filling missing values with mean)\n",
        "score = rmse(y_val , y_pred)\n",
        "round(score , 2)"
      ],
      "execution_count": null,
      "outputs": [
        {
          "output_type": "execute_result",
          "data": {
            "text/plain": [
              "0.64"
            ]
          },
          "metadata": {},
          "execution_count": 45
        }
      ]
    },
    {
      "cell_type": "code",
      "metadata": {
        "colab": {
          "base_uri": "https://localhost:8080/",
          "height": 282
        },
        "id": "saD35gdynCo6",
        "outputId": "597c5a63-a813-444e-9321-60f0c8c7735b"
      },
      "source": [
        "# Both RMSE have the same value: 0.64\n",
        "sns.histplot(y_pred, color='red', alpha=0.5, bins=50)\n",
        "sns.histplot(y_val, color='blue', alpha=0.5, bins=50)"
      ],
      "execution_count": null,
      "outputs": [
        {
          "output_type": "execute_result",
          "data": {
            "text/plain": [
              "<matplotlib.axes._subplots.AxesSubplot at 0x7efd47bff150>"
            ]
          },
          "metadata": {},
          "execution_count": 48
        },
        {
          "output_type": "display_data",
          "data": {
            "image/png": "[encoded data removed]",
            "text/plain": [
              "<Figure size 432x288 with 1 Axes>"
            ]
          },
          "metadata": {
            "needs_background": "light"
          }
        }
      ]
    },
    {
      "cell_type": "markdown",
      "metadata": {
        "id": "_VgftOKaRFJL"
      },
      "source": [
        "### Question 4\n",
        "Now let's train a regularized linear regression.\n",
        "\n",
        "*   For this question, fill the NAs with 0.\n",
        "*   Try different values of r from this list: [0, 0.000001, 0.0001, 0.001, 0.01, 0.1, 1, 5, 10].\n",
        "*   Use RMSE to evaluate the model on the validation dataset.\n",
        "*   Round the RMSE scores to 2 decimal digits.\n",
        "\n",
        "##### Which r gives the best RMSE?"
      ]
    },
    {
      "cell_type": "code",
      "metadata": {
        "id": "vq-5HvyQXDP1"
      },
      "source": [
        "def train_linear_regression_reg(X, y ,r):\n",
        "    ones = np.ones(X.shape[0])\n",
        "    X = np.column_stack([ones, X])\n",
        "\n",
        "    XTX = X.T.dot(X)\n",
        "    XTX = XTX + (r*np.eye(XTX.shape[0]))\n",
        "    \n",
        "    XTX_inv = np.linalg.inv(XTX)\n",
        "    w = XTX_inv.dot(X.T).dot(y)\n",
        "    \n",
        "    return w[0], w[1:]"
      ],
      "execution_count": null,
      "outputs": []
    },
    {
      "cell_type": "code",
      "metadata": {
        "colab": {
          "base_uri": "https://localhost:8080/"
        },
        "id": "o34xLI10XDCG",
        "outputId": "9998749e-a010-41ca-8080-f4e815f5681e"
      },
      "source": [
        "for r in [0, 0.000001, 0.0001, 0.001, 0.01, 0.1, 1, 5, 10]:\n",
        "    X_train = prepare_X(df_train , 0)\n",
        "    w0 , w = train_linear_regression_reg(X_train , y_train , r)\n",
        "\n",
        "    X_val = prepare_X(df_val , 0)\n",
        "    y_pred = w0 + X_val.dot(w)\n",
        "\n",
        "    score = rmse(y_val , y_pred)\n",
        "    round(score , 2)\n",
        "    print('%6s' %r ,w0 ,round(score,2))"
      ],
      "execution_count": null,
      "outputs": [
        {
          "output_type": "stream",
          "name": "stdout",
          "text": [
            "     0 -419.91265807142094 0.64\n",
            " 1e-06 -419.8627153336333 0.64\n",
            "0.0001 -414.97649233703777 0.64\n",
            " 0.001 -375.27365241862066 0.64\n",
            "  0.01 -191.78384049339815 0.66\n",
            "   0.1 -32.56256054966786 0.68\n",
            "     1 -3.4992168354209157 0.68\n",
            "     5 -0.7033623171188026 0.68\n",
            "    10 -0.35127675921831375 0.68\n"
          ]
        }
      ]
    },
    {
      "cell_type": "markdown",
      "metadata": {
        "id": "pVsn0qYuuG8F"
      },
      "source": [
        "##### 0.001 is the optimal one for r value.\n",
        "\n"
      ]
    },
    {
      "cell_type": "markdown",
      "metadata": {
        "id": "8GuAvo8UV2r-"
      },
      "source": [
        "### Question 5\n",
        "\n",
        "*   We used seed 42 for splitting the data. Let's find out how selecting the seed influences our score.\n",
        "*   Try different seed values: [0, 1, 2, 3, 4, 5, 6, 7, 8, 9].\n",
        "*   For each seed, do the train/validation/test split with 60%/20%/20% distribution.\n",
        "*   Fill the missing values with 0 and train a model without regularization.\n",
        "*   For each seed, evaluate the model on the validation dataset and collect the RMSE scores.\n",
        "##### What's the standard deviation of all the scores? To compute the standard deviation, use np.std\n",
        "##### Round the result to 3 decimal digits (round(std, 3))"
      ]
    },
    {
      "cell_type": "code",
      "metadata": {
        "id": "9RsfbjWTXBXz"
      },
      "source": [
        "arr = []\n",
        "\n",
        "for seed in [0, 1, 2, 3, 4, 5, 6, 7, 8, 9]:\n",
        "    df_shuffled = df\n",
        "    n = len(df_shuffled)\n",
        "\n",
        "    np.random.seed(seed)\n",
        "    idx = np.arange(n)\n",
        "    np.random.shuffle(idx)\n",
        "\n",
        "    df_shuffled = df_shuffled.iloc[idx]\n",
        "    n_val = int(n*0.2)\n",
        "    n_test = int(n*0.2)\n",
        "    n_train = n - n_val - n_test\n",
        "\n",
        "    df_train = df_shuffled.iloc[:n_train]\n",
        "    df_val = df_shuffled.iloc[n_train:n_train+n_val]\n",
        "    df_test = df_shuffled.iloc[n_train+n_val:]\n",
        "    y_train = np.log1p(df_train.price.values)\n",
        "    y_val = np.log1p(df_val.price.values)\n",
        "    y_test = np.log1p(df_test.price.values)\n",
        "\n",
        "    del df_train['price']\n",
        "    del df_val['price']\n",
        "    del df_test['price']\n",
        "    \n",
        "    X_train = prepare_X(df_train , 0)\n",
        "    w0 , w = train_linear_regression(X_train , y_train)\n",
        "\n",
        "    X_val = prepare_X(df_val , 0)\n",
        "    y_pred = w0 + X_val.dot(w)\n",
        "\n",
        "    score = rmse(y_val , y_pred)\n",
        "    arr.append(round(score , 2))"
      ],
      "execution_count": null,
      "outputs": []
    },
    {
      "cell_type": "code",
      "metadata": {
        "colab": {
          "base_uri": "https://localhost:8080/"
        },
        "id": "hj3oo54pWjrS",
        "outputId": "c5bf6a47-fe5e-4ab4-e160-c71d4e65ebcf"
      },
      "source": [
        "arr"
      ],
      "execution_count": null,
      "outputs": [
        {
          "output_type": "execute_result",
          "data": {
            "text/plain": [
              "[0.65, 0.65, 0.65, 0.64, 0.64, 0.63, 0.63, 0.65, 0.65, 0.64]"
            ]
          },
          "metadata": {},
          "execution_count": 55
        }
      ]
    },
    {
      "cell_type": "code",
      "metadata": {
        "colab": {
          "base_uri": "https://localhost:8080/"
        },
        "id": "cOncM5lGu-Dk",
        "outputId": "42ed0544-63d8-404f-8d26-cb3eed8d1496"
      },
      "source": [
        "# Calculate standard deviation of all scores\n",
        "round(np.std(arr),3)"
      ],
      "execution_count": null,
      "outputs": [
        {
          "output_type": "execute_result",
          "data": {
            "text/plain": [
              "0.008"
            ]
          },
          "metadata": {},
          "execution_count": 56
        }
      ]
    },
    {
      "cell_type": "markdown",
      "metadata": {
        "id": "sU45peVdWqu4"
      },
      "source": [
        "### Question 6\n",
        "*   Split the dataset like previously, use seed 9.\n",
        "*   Combine train and validation datasets.\n",
        "*   Fill the missing values with 0 and train a model with r=0.001.\n",
        "##### What's the RMSE on the test dataset?"
      ]
    },
    {
      "cell_type": "code",
      "metadata": {
        "id": "maaKd2ehXAt2"
      },
      "source": [
        "#Randomize dataset using seed 9\n",
        "np.random.seed(9)\n",
        "df_shuffled =df\n",
        "n = len(df_shuffled)\n",
        "idx = np.arange(n)\n",
        "np.random.shuffle(idx)\n",
        "\n",
        "# Split data in train/val/test sets, with 60%/20%/20% distribution\n",
        "df_shuffled = df_shuffled.iloc[idx[0:n]]\n",
        "\n",
        "n_val = int(n*0.2)\n",
        "n_test = int(n*0.2)\n",
        "n_train = n - n_val - n_test\n",
        " \n",
        "df_train = df_shuffled.iloc[:n_train]\n",
        "df_val = df_shuffled.iloc[n_train:n_train+n_val]\n",
        "df_test = df_shuffled.iloc[n_train+n_val:]\n",
        "\n",
        "y_train = np.log1p(df_train.price.values)\n",
        "y_val = np.log1p(df_val.price.values)\n",
        "y_test = np.log1p(df_test.price.values)\n",
        "\n",
        "# Combine the train and validation datasets\n",
        "df_full_train = pd.concat([df_train , df_val])\n",
        "df_full_train = df_full_train.reset_index(drop = True)\n",
        "    \n",
        "y_full_train = np.log1p(df_full_train.price.values)\n",
        "    \n",
        "del df_train['price']\n",
        "del df_val['price']\n",
        "del df_test['price']\n",
        "del df_full_train ['price']"
      ],
      "execution_count": null,
      "outputs": []
    },
    {
      "cell_type": "code",
      "metadata": {
        "colab": {
          "base_uri": "https://localhost:8080/"
        },
        "id": "k0v8JfEiXAZA",
        "outputId": "6a441796-8425-4d1f-e6a5-1df50c1fc64c"
      },
      "source": [
        "# Training the model\n",
        "r = 0.001\n",
        "X_full_train = prepare_X(df_full_train , 0)\n",
        "w0 , w = train_linear_regression_reg(X_full_train , y_full_train , r)\n",
        "\n",
        "# Calculate RMSE on test datatest\n",
        "X_test = prepare_X(df_test , 0)\n",
        "y_pred = w0 + X_test.dot(w)\n",
        "score = rmse(y_test , y_pred)\n",
        "score"
      ],
      "execution_count": null,
      "outputs": [
        {
          "output_type": "execute_result",
          "data": {
            "text/plain": [
              "0.6452771348554612"
            ]
          },
          "metadata": {},
          "execution_count": 59
        }
      ]
    },
    {
      "cell_type": "code",
      "metadata": {
        "colab": {
          "base_uri": "https://localhost:8080/"
        },
        "id": "DhqAvUqWx0OV",
        "outputId": "e5adb5e9-57ed-4a70-b9d9-6f7db30f5704"
      },
      "source": [
        "# Rounding RMSE\n",
        "round(score , 2)"
      ],
      "execution_count": null,
      "outputs": [
        {
          "output_type": "execute_result",
          "data": {
            "text/plain": [
              "0.65"
            ]
          },
          "metadata": {},
          "execution_count": 60
        }
      ]
    }
  ]
}